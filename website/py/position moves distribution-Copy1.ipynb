{
 "cells": [
  {
   "cell_type": "markdown",
   "metadata": {},
   "source": [
    "# Installs & Imports"
   ]
  },
  {
   "cell_type": "code",
   "execution_count": 1,
   "metadata": {},
   "outputs": [
    {
     "name": "stdout",
     "output_type": "stream",
     "text": [
      "Python 3.8.0\r\n"
     ]
    }
   ],
   "source": [
    "!python --version # requires 3.8+"
   ]
  },
  {
   "cell_type": "code",
   "execution_count": 2,
   "metadata": {
    "colab": {
     "base_uri": "https://localhost:8080/"
    },
    "id": "faSONRmSFmMs",
    "outputId": "e0b18a53-4390-4b05-9bdb-1c54fa1ce448"
   },
   "outputs": [],
   "source": [
    "!pip install -q wget chess seaborn numpy pandas"
   ]
  },
  {
   "cell_type": "code",
   "execution_count": 3,
   "metadata": {},
   "outputs": [
    {
     "name": "stdout",
     "output_type": "stream",
     "text": [
      "Requirement already satisfied: pydot in /mnt/c/Users/Joe/Desktop/chess-analytics/venv/lib/python3.8/site-packages\n",
      "Requirement already satisfied: networkx in /mnt/c/Users/Joe/Desktop/chess-analytics/venv/lib/python3.8/site-packages\n",
      "Requirement already satisfied: graphviz in /mnt/c/Users/Joe/Desktop/chess-analytics/venv/lib/python3.8/site-packages\n",
      "Requirement already satisfied: pyparsing>=2.1.4 in /mnt/c/Users/Joe/Desktop/chess-analytics/venv/lib/python3.8/site-packages (from pydot)\n",
      "Requirement already satisfied: decorator>=4.3.0 in /mnt/c/Users/Joe/Desktop/chess-analytics/venv/lib/python3.8/site-packages (from networkx)\n"
     ]
    }
   ],
   "source": [
    "!pip install pydot networkx graphviz"
   ]
  },
  {
   "cell_type": "markdown",
   "metadata": {},
   "source": [
    "## Download the games"
   ]
  },
  {
   "cell_type": "code",
   "execution_count": 4,
   "metadata": {},
   "outputs": [],
   "source": [
    "from utils import sanitize_url\n",
    "from download import download\n",
    "from pathlib import Path"
   ]
  },
  {
   "cell_type": "code",
   "execution_count": 5,
   "metadata": {},
   "outputs": [
    {
     "name": "stdout",
     "output_type": "stream",
     "text": [
      "../../chess365_d35.pgn\n"
     ]
    }
   ],
   "source": [
    "#URL = 'https://lichess.org/games/export/seaghost27?max=100'\n",
    "URL = 'https://lichess.org/games/export/DrNykterstein?max=500'\n",
    "#URL = 'https://database.lichess.org/standard/lichess_db_standard_rated_2015-02.pgn.bz2'\n",
    "URL = None\n",
    "FILENAME = '../../chess365_d35.pgn'\n",
    "\n",
    "if URL:    \n",
    "    filename = sanitize_url(URL)\n",
    "    pgn_filename = download(URL, filename)\n",
    "    \n",
    "else:\n",
    "    pgn_filename = FILENAME\n",
    "    \n",
    "print(pgn_filename)"
   ]
  },
  {
   "cell_type": "markdown",
   "metadata": {},
   "source": [
    "## Build the trie"
   ]
  },
  {
   "cell_type": "code",
   "execution_count": 6,
   "metadata": {},
   "outputs": [],
   "source": [
    "from game import games_generator_from_file, get_board_for_moves, build_move_df\n",
    "from trie import make_game_trie, count_trie, filter_trie, get_sub_trie"
   ]
  },
  {
   "cell_type": "code",
   "execution_count": 7,
   "metadata": {},
   "outputs": [
    {
     "name": "stdout",
     "output_type": "stream",
     "text": [
      "0\n",
      "100\n",
      "make_game_trie took 12.89s\n",
      "200\n"
     ]
    }
   ],
   "source": [
    "MAX_GAMES = 200\n",
    "\n",
    "games_gen = games_generator_from_file(pgn_filename, max_games=MAX_GAMES, sample=0.1, print_every=100)\n",
    "trie = make_game_trie(games_gen)\n",
    "print(count_trie(trie))"
   ]
  },
  {
   "cell_type": "code",
   "execution_count": 8,
   "metadata": {},
   "outputs": [
    {
     "data": {
      "image/svg+xml": [
       "<svg xmlns=\"http://www.w3.org/2000/svg\" version=\"1.1\" xmlns:xlink=\"http://www.w3.org/1999/xlink\" viewBox=\"0 0 390 390\" width=\"390\" height=\"390\"><defs><g id=\"white-pawn\" class=\"white pawn\"><path d=\"M22 9c-2.21 0-4 1.79-4 4 0 .89.29 1.71.78 2.38-1.95 1.12-3.28 3.21-3.28 5.62 0 2.03.94 3.84 2.41 5.03-3 1.06-7.41 5.55-7.41 13.47h23c0-7.92-4.41-12.41-7.41-13.47 1.47-1.19 2.41-3 2.41-5.03 0-2.41-1.33-4.5-3.28-5.62.49-.67.78-1.49.78-2.38 0-2.21-1.79-4-4-4z\" fill=\"#fff\" stroke=\"#000\" stroke-width=\"1.5\" stroke-linecap=\"round\" /></g><g id=\"white-knight\" class=\"white knight\" fill=\"none\" fill-rule=\"evenodd\" stroke=\"#000\" stroke-width=\"1.5\" stroke-linecap=\"round\" stroke-linejoin=\"round\"><path d=\"M 22,10 C 32.5,11 38.5,18 38,39 L 15,39 C 15,30 25,32.5 23,18\" style=\"fill:#ffffff; stroke:#000000;\" /><path d=\"M 24,18 C 24.38,20.91 18.45,25.37 16,27 C 13,29 13.18,31.34 11,31 C 9.958,30.06 12.41,27.96 11,28 C 10,28 11.19,29.23 10,30 C 9,30 5.997,31 6,26 C 6,24 12,14 12,14 C 12,14 13.89,12.1 14,10.5 C 13.27,9.506 13.5,8.5 13.5,7.5 C 14.5,6.5 16.5,10 16.5,10 L 18.5,10 C 18.5,10 19.28,8.008 21,7 C 22,7 22,10 22,10\" style=\"fill:#ffffff; stroke:#000000;\" /><path d=\"M 9.5 25.5 A 0.5 0.5 0 1 1 8.5,25.5 A 0.5 0.5 0 1 1 9.5 25.5 z\" style=\"fill:#000000; stroke:#000000;\" /><path d=\"M 15 15.5 A 0.5 1.5 0 1 1 14,15.5 A 0.5 1.5 0 1 1 15 15.5 z\" transform=\"matrix(0.866,0.5,-0.5,0.866,9.693,-5.173)\" style=\"fill:#000000; stroke:#000000;\" /></g><g id=\"white-bishop\" class=\"white bishop\" fill=\"none\" fill-rule=\"evenodd\" stroke=\"#000\" stroke-width=\"1.5\" stroke-linecap=\"round\" stroke-linejoin=\"round\"><g fill=\"#fff\" stroke-linecap=\"butt\"><path d=\"M9 36c3.39-.97 10.11.43 13.5-2 3.39 2.43 10.11 1.03 13.5 2 0 0 1.65.54 3 2-.68.97-1.65.99-3 .5-3.39-.97-10.11.46-13.5-1-3.39 1.46-10.11.03-13.5 1-1.354.49-2.323.47-3-.5 1.354-1.94 3-2 3-2zM15 32c2.5 2.5 12.5 2.5 15 0 .5-1.5 0-2 0-2 0-2.5-2.5-4-2.5-4 5.5-1.5 6-11.5-5-15.5-11 4-10.5 14-5 15.5 0 0-2.5 1.5-2.5 4 0 0-.5.5 0 2zM25 8a2.5 2.5 0 1 1-5 0 2.5 2.5 0 1 1 5 0z\" /></g><path d=\"M17.5 26h10M15 30h15m-7.5-14.5v5M20 18h5\" stroke-linejoin=\"miter\" /></g><g id=\"white-rook\" class=\"white rook\" fill=\"#fff\" fill-rule=\"evenodd\" stroke=\"#000\" stroke-width=\"1.5\" stroke-linecap=\"round\" stroke-linejoin=\"round\"><path d=\"M9 39h27v-3H9v3zM12 36v-4h21v4H12zM11 14V9h4v2h5V9h5v2h5V9h4v5\" stroke-linecap=\"butt\" /><path d=\"M34 14l-3 3H14l-3-3\" /><path d=\"M31 17v12.5H14V17\" stroke-linecap=\"butt\" stroke-linejoin=\"miter\" /><path d=\"M31 29.5l1.5 2.5h-20l1.5-2.5\" /><path d=\"M11 14h23\" fill=\"none\" stroke-linejoin=\"miter\" /></g><g id=\"white-queen\" class=\"white queen\" fill=\"#fff\" fill-rule=\"evenodd\" stroke=\"#000\" stroke-width=\"1.5\" stroke-linecap=\"round\" stroke-linejoin=\"round\"><path d=\"M8 12a2 2 0 1 1-4 0 2 2 0 1 1 4 0zM24.5 7.5a2 2 0 1 1-4 0 2 2 0 1 1 4 0zM41 12a2 2 0 1 1-4 0 2 2 0 1 1 4 0zM16 8.5a2 2 0 1 1-4 0 2 2 0 1 1 4 0zM33 9a2 2 0 1 1-4 0 2 2 0 1 1 4 0z\" /><path d=\"M9 26c8.5-1.5 21-1.5 27 0l2-12-7 11V11l-5.5 13.5-3-15-3 15-5.5-14V25L7 14l2 12zM9 26c0 2 1.5 2 2.5 4 1 1.5 1 1 .5 3.5-1.5 1-1.5 2.5-1.5 2.5-1.5 1.5.5 2.5.5 2.5 6.5 1 16.5 1 23 0 0 0 1.5-1 0-2.5 0 0 .5-1.5-1-2.5-.5-2.5-.5-2 .5-3.5 1-2 2.5-2 2.5-4-8.5-1.5-18.5-1.5-27 0z\" stroke-linecap=\"butt\" /><path d=\"M11.5 30c3.5-1 18.5-1 22 0M12 33.5c6-1 15-1 21 0\" fill=\"none\" /></g><g id=\"white-king\" class=\"white king\" fill=\"none\" fill-rule=\"evenodd\" stroke=\"#000\" stroke-width=\"1.5\" stroke-linecap=\"round\" stroke-linejoin=\"round\"><path d=\"M22.5 11.63V6M20 8h5\" stroke-linejoin=\"miter\" /><path d=\"M22.5 25s4.5-7.5 3-10.5c0 0-1-2.5-3-2.5s-3 2.5-3 2.5c-1.5 3 3 10.5 3 10.5\" fill=\"#fff\" stroke-linecap=\"butt\" stroke-linejoin=\"miter\" /><path d=\"M11.5 37c5.5 3.5 15.5 3.5 21 0v-7s9-4.5 6-10.5c-4-6.5-13.5-3.5-16 4V27v-3.5c-3.5-7.5-13-10.5-16-4-3 6 5 10 5 10V37z\" fill=\"#fff\" /><path d=\"M11.5 30c5.5-3 15.5-3 21 0m-21 3.5c5.5-3 15.5-3 21 0m-21 3.5c5.5-3 15.5-3 21 0\" /></g><g id=\"black-pawn\" class=\"black pawn\"><path d=\"M22 9c-2.21 0-4 1.79-4 4 0 .89.29 1.71.78 2.38-1.95 1.12-3.28 3.21-3.28 5.62 0 2.03.94 3.84 2.41 5.03-3 1.06-7.41 5.55-7.41 13.47h23c0-7.92-4.41-12.41-7.41-13.47 1.47-1.19 2.41-3 2.41-5.03 0-2.41-1.33-4.5-3.28-5.62.49-.67.78-1.49.78-2.38 0-2.21-1.79-4-4-4z\" stroke=\"#000\" stroke-width=\"1.5\" stroke-linecap=\"round\" /></g><g id=\"black-knight\" class=\"black knight\" fill=\"none\" fill-rule=\"evenodd\" stroke=\"#000\" stroke-width=\"1.5\" stroke-linecap=\"round\" stroke-linejoin=\"round\"><path d=\"M 22,10 C 32.5,11 38.5,18 38,39 L 15,39 C 15,30 25,32.5 23,18\" style=\"fill:#000000; stroke:#000000;\" /><path d=\"M 24,18 C 24.38,20.91 18.45,25.37 16,27 C 13,29 13.18,31.34 11,31 C 9.958,30.06 12.41,27.96 11,28 C 10,28 11.19,29.23 10,30 C 9,30 5.997,31 6,26 C 6,24 12,14 12,14 C 12,14 13.89,12.1 14,10.5 C 13.27,9.506 13.5,8.5 13.5,7.5 C 14.5,6.5 16.5,10 16.5,10 L 18.5,10 C 18.5,10 19.28,8.008 21,7 C 22,7 22,10 22,10\" style=\"fill:#000000; stroke:#000000;\" /><path d=\"M 9.5 25.5 A 0.5 0.5 0 1 1 8.5,25.5 A 0.5 0.5 0 1 1 9.5 25.5 z\" style=\"fill:#ececec; stroke:#ececec;\" /><path d=\"M 15 15.5 A 0.5 1.5 0 1 1 14,15.5 A 0.5 1.5 0 1 1 15 15.5 z\" transform=\"matrix(0.866,0.5,-0.5,0.866,9.693,-5.173)\" style=\"fill:#ececec; stroke:#ececec;\" /><path d=\"M 24.55,10.4 L 24.1,11.85 L 24.6,12 C 27.75,13 30.25,14.49 32.5,18.75 C 34.75,23.01 35.75,29.06 35.25,39 L 35.2,39.5 L 37.45,39.5 L 37.5,39 C 38,28.94 36.62,22.15 34.25,17.66 C 31.88,13.17 28.46,11.02 25.06,10.5 L 24.55,10.4 z \" style=\"fill:#ececec; stroke:none;\" /></g><g id=\"black-bishop\" class=\"black bishop\" fill=\"none\" fill-rule=\"evenodd\" stroke=\"#000\" stroke-width=\"1.5\" stroke-linecap=\"round\" stroke-linejoin=\"round\"><path d=\"M9 36c3.39-.97 10.11.43 13.5-2 3.39 2.43 10.11 1.03 13.5 2 0 0 1.65.54 3 2-.68.97-1.65.99-3 .5-3.39-.97-10.11.46-13.5-1-3.39 1.46-10.11.03-13.5 1-1.354.49-2.323.47-3-.5 1.354-1.94 3-2 3-2zm6-4c2.5 2.5 12.5 2.5 15 0 .5-1.5 0-2 0-2 0-2.5-2.5-4-2.5-4 5.5-1.5 6-11.5-5-15.5-11 4-10.5 14-5 15.5 0 0-2.5 1.5-2.5 4 0 0-.5.5 0 2zM25 8a2.5 2.5 0 1 1-5 0 2.5 2.5 0 1 1 5 0z\" fill=\"#000\" stroke-linecap=\"butt\" /><path d=\"M17.5 26h10M15 30h15m-7.5-14.5v5M20 18h5\" stroke=\"#fff\" stroke-linejoin=\"miter\" /></g><g id=\"black-rook\" class=\"black rook\" fill=\"#000\" fill-rule=\"evenodd\" stroke=\"#000\" stroke-width=\"1.5\" stroke-linecap=\"round\" stroke-linejoin=\"round\"><path d=\"M9 39h27v-3H9v3zM12.5 32l1.5-2.5h17l1.5 2.5h-20zM12 36v-4h21v4H12z\" stroke-linecap=\"butt\" /><path d=\"M14 29.5v-13h17v13H14z\" stroke-linecap=\"butt\" stroke-linejoin=\"miter\" /><path d=\"M14 16.5L11 14h23l-3 2.5H14zM11 14V9h4v2h5V9h5v2h5V9h4v5H11z\" stroke-linecap=\"butt\" /><path d=\"M12 35.5h21M13 31.5h19M14 29.5h17M14 16.5h17M11 14h23\" fill=\"none\" stroke=\"#fff\" stroke-width=\"1\" stroke-linejoin=\"miter\" /></g><g id=\"black-queen\" class=\"black queen\" fill=\"#000\" fill-rule=\"evenodd\" stroke=\"#000\" stroke-width=\"1.5\" stroke-linecap=\"round\" stroke-linejoin=\"round\"><g fill=\"#000\" stroke=\"none\"><circle cx=\"6\" cy=\"12\" r=\"2.75\" /><circle cx=\"14\" cy=\"9\" r=\"2.75\" /><circle cx=\"22.5\" cy=\"8\" r=\"2.75\" /><circle cx=\"31\" cy=\"9\" r=\"2.75\" /><circle cx=\"39\" cy=\"12\" r=\"2.75\" /></g><path d=\"M9 26c8.5-1.5 21-1.5 27 0l2.5-12.5L31 25l-.3-14.1-5.2 13.6-3-14.5-3 14.5-5.2-13.6L14 25 6.5 13.5 9 26zM9 26c0 2 1.5 2 2.5 4 1 1.5 1 1 .5 3.5-1.5 1-1.5 2.5-1.5 2.5-1.5 1.5.5 2.5.5 2.5 6.5 1 16.5 1 23 0 0 0 1.5-1 0-2.5 0 0 .5-1.5-1-2.5-.5-2.5-.5-2 .5-3.5 1-2 2.5-2 2.5-4-8.5-1.5-18.5-1.5-27 0z\" stroke-linecap=\"butt\" /><path d=\"M11 38.5a35 35 1 0 0 23 0\" fill=\"none\" stroke-linecap=\"butt\" /><path d=\"M11 29a35 35 1 0 1 23 0M12.5 31.5h20M11.5 34.5a35 35 1 0 0 22 0M10.5 37.5a35 35 1 0 0 24 0\" fill=\"none\" stroke=\"#fff\" /></g><g id=\"black-king\" class=\"black king\" fill=\"none\" fill-rule=\"evenodd\" stroke=\"#000\" stroke-width=\"1.5\" stroke-linecap=\"round\" stroke-linejoin=\"round\"><path d=\"M22.5 11.63V6\" stroke-linejoin=\"miter\" /><path d=\"M22.5 25s4.5-7.5 3-10.5c0 0-1-2.5-3-2.5s-3 2.5-3 2.5c-1.5 3 3 10.5 3 10.5\" fill=\"#000\" stroke-linecap=\"butt\" stroke-linejoin=\"miter\" /><path d=\"M11.5 37c5.5 3.5 15.5 3.5 21 0v-7s9-4.5 6-10.5c-4-6.5-13.5-3.5-16 4V27v-3.5c-3.5-7.5-13-10.5-16-4-3 6 5 10 5 10V37z\" fill=\"#000\" /><path d=\"M20 8h5\" stroke-linejoin=\"miter\" /><path d=\"M32 29.5s8.5-4 6.03-9.65C34.15 14 25 18 22.5 24.5l.01 2.1-.01-2.1C20 18 9.906 14 6.997 19.85c-2.497 5.65 4.853 9 4.853 9M11.5 30c5.5-3 15.5-3 21 0m-21 3.5c5.5-3 15.5-3 21 0m-21 3.5c5.5-3 15.5-3 21 0\" stroke=\"#fff\" /></g></defs><rect x=\"0\" y=\"0\" width=\"390\" height=\"390\" fill=\"#212121\" /><rect x=\"15\" y=\"330\" width=\"45\" height=\"45\" class=\"square dark a1\" stroke=\"none\" fill=\"#d18b47\" /><use xlink:href=\"#white-rook\" transform=\"translate(15, 330)\" /><rect x=\"60\" y=\"330\" width=\"45\" height=\"45\" class=\"square light b1\" stroke=\"none\" fill=\"#ffce9e\" /><rect x=\"105\" y=\"330\" width=\"45\" height=\"45\" class=\"square dark c1\" stroke=\"none\" fill=\"#d18b47\" /><use xlink:href=\"#white-bishop\" transform=\"translate(105, 330)\" /><rect x=\"150\" y=\"330\" width=\"45\" height=\"45\" class=\"square light d1\" stroke=\"none\" fill=\"#ffce9e\" /><use xlink:href=\"#white-queen\" transform=\"translate(150, 330)\" /><rect x=\"195\" y=\"330\" width=\"45\" height=\"45\" class=\"square dark e1\" stroke=\"none\" fill=\"#d18b47\" /><use xlink:href=\"#white-king\" transform=\"translate(195, 330)\" /><rect x=\"240\" y=\"330\" width=\"45\" height=\"45\" class=\"square light f1\" stroke=\"none\" fill=\"#ffce9e\" /><use xlink:href=\"#white-bishop\" transform=\"translate(240, 330)\" /><rect x=\"285\" y=\"330\" width=\"45\" height=\"45\" class=\"square dark g1\" stroke=\"none\" fill=\"#d18b47\" /><use xlink:href=\"#white-knight\" transform=\"translate(285, 330)\" /><rect x=\"330\" y=\"330\" width=\"45\" height=\"45\" class=\"square light h1\" stroke=\"none\" fill=\"#ffce9e\" /><use xlink:href=\"#white-rook\" transform=\"translate(330, 330)\" /><rect x=\"15\" y=\"285\" width=\"45\" height=\"45\" class=\"square light a2\" stroke=\"none\" fill=\"#ffce9e\" /><use xlink:href=\"#white-pawn\" transform=\"translate(15, 285)\" /><rect x=\"60\" y=\"285\" width=\"45\" height=\"45\" class=\"square dark b2\" stroke=\"none\" fill=\"#d18b47\" /><use xlink:href=\"#white-pawn\" transform=\"translate(60, 285)\" /><rect x=\"105\" y=\"285\" width=\"45\" height=\"45\" class=\"square light c2\" stroke=\"none\" fill=\"#ffce9e\" /><rect x=\"150\" y=\"285\" width=\"45\" height=\"45\" class=\"square dark d2\" stroke=\"none\" fill=\"#d18b47\" /><rect x=\"195\" y=\"285\" width=\"45\" height=\"45\" class=\"square light e2\" stroke=\"none\" fill=\"#ffce9e\" /><use xlink:href=\"#white-pawn\" transform=\"translate(195, 285)\" /><rect x=\"240\" y=\"285\" width=\"45\" height=\"45\" class=\"square dark f2\" stroke=\"none\" fill=\"#d18b47\" /><use xlink:href=\"#white-pawn\" transform=\"translate(240, 285)\" /><rect x=\"285\" y=\"285\" width=\"45\" height=\"45\" class=\"square light g2\" stroke=\"none\" fill=\"#ffce9e\" /><use xlink:href=\"#white-pawn\" transform=\"translate(285, 285)\" /><rect x=\"330\" y=\"285\" width=\"45\" height=\"45\" class=\"square dark h2\" stroke=\"none\" fill=\"#d18b47\" /><use xlink:href=\"#white-pawn\" transform=\"translate(330, 285)\" /><rect x=\"15\" y=\"240\" width=\"45\" height=\"45\" class=\"square dark a3\" stroke=\"none\" fill=\"#d18b47\" /><rect x=\"60\" y=\"240\" width=\"45\" height=\"45\" class=\"square light b3\" stroke=\"none\" fill=\"#ffce9e\" /><rect x=\"105\" y=\"240\" width=\"45\" height=\"45\" class=\"square dark c3\" stroke=\"none\" fill=\"#d18b47\" /><use xlink:href=\"#white-knight\" transform=\"translate(105, 240)\" /><rect x=\"150\" y=\"240\" width=\"45\" height=\"45\" class=\"square light d3\" stroke=\"none\" fill=\"#ffce9e\" /><rect x=\"195\" y=\"240\" width=\"45\" height=\"45\" class=\"square dark e3\" stroke=\"none\" fill=\"#d18b47\" /><rect x=\"240\" y=\"240\" width=\"45\" height=\"45\" class=\"square light f3\" stroke=\"none\" fill=\"#ffce9e\" /><rect x=\"285\" y=\"240\" width=\"45\" height=\"45\" class=\"square dark g3\" stroke=\"none\" fill=\"#d18b47\" /><rect x=\"330\" y=\"240\" width=\"45\" height=\"45\" class=\"square light h3\" stroke=\"none\" fill=\"#ffce9e\" /><rect x=\"15\" y=\"195\" width=\"45\" height=\"45\" class=\"square light a4\" stroke=\"none\" fill=\"#ffce9e\" /><rect x=\"60\" y=\"195\" width=\"45\" height=\"45\" class=\"square dark b4\" stroke=\"none\" fill=\"#d18b47\" /><rect x=\"105\" y=\"195\" width=\"45\" height=\"45\" class=\"square light c4\" stroke=\"none\" fill=\"#ffce9e\" /><use xlink:href=\"#white-pawn\" transform=\"translate(105, 195)\" /><rect x=\"150\" y=\"195\" width=\"45\" height=\"45\" class=\"square dark d4\" stroke=\"none\" fill=\"#d18b47\" /><use xlink:href=\"#white-pawn\" transform=\"translate(150, 195)\" /><rect x=\"195\" y=\"195\" width=\"45\" height=\"45\" class=\"square light e4\" stroke=\"none\" fill=\"#ffce9e\" /><rect x=\"240\" y=\"195\" width=\"45\" height=\"45\" class=\"square dark f4\" stroke=\"none\" fill=\"#d18b47\" /><rect x=\"285\" y=\"195\" width=\"45\" height=\"45\" class=\"square light g4\" stroke=\"none\" fill=\"#ffce9e\" /><rect x=\"330\" y=\"195\" width=\"45\" height=\"45\" class=\"square dark h4\" stroke=\"none\" fill=\"#d18b47\" /><rect x=\"15\" y=\"150\" width=\"45\" height=\"45\" class=\"square dark a5\" stroke=\"none\" fill=\"#d18b47\" /><rect x=\"60\" y=\"150\" width=\"45\" height=\"45\" class=\"square light b5\" stroke=\"none\" fill=\"#ffce9e\" /><rect x=\"105\" y=\"150\" width=\"45\" height=\"45\" class=\"square dark c5\" stroke=\"none\" fill=\"#d18b47\" /><rect x=\"150\" y=\"150\" width=\"45\" height=\"45\" class=\"square light d5\" stroke=\"none\" fill=\"#ffce9e\" /><use xlink:href=\"#black-pawn\" transform=\"translate(150, 150)\" /><rect x=\"195\" y=\"150\" width=\"45\" height=\"45\" class=\"square dark e5\" stroke=\"none\" fill=\"#d18b47\" /><rect x=\"240\" y=\"150\" width=\"45\" height=\"45\" class=\"square light f5\" stroke=\"none\" fill=\"#ffce9e\" /><rect x=\"285\" y=\"150\" width=\"45\" height=\"45\" class=\"square dark g5\" stroke=\"none\" fill=\"#d18b47\" /><rect x=\"330\" y=\"150\" width=\"45\" height=\"45\" class=\"square light h5\" stroke=\"none\" fill=\"#ffce9e\" /><rect x=\"15\" y=\"105\" width=\"45\" height=\"45\" class=\"square light a6\" stroke=\"none\" fill=\"#ffce9e\" /><rect x=\"60\" y=\"105\" width=\"45\" height=\"45\" class=\"square dark b6\" stroke=\"none\" fill=\"#d18b47\" /><rect x=\"105\" y=\"105\" width=\"45\" height=\"45\" class=\"square light c6\" stroke=\"none\" fill=\"#ffce9e\" /><rect x=\"150\" y=\"105\" width=\"45\" height=\"45\" class=\"square dark d6\" stroke=\"none\" fill=\"#d18b47\" /><rect x=\"195\" y=\"105\" width=\"45\" height=\"45\" class=\"square light e6\" stroke=\"none\" fill=\"#ffce9e\" /><use xlink:href=\"#black-pawn\" transform=\"translate(195, 105)\" /><rect x=\"240\" y=\"105\" width=\"45\" height=\"45\" class=\"square dark lastmove f6\" stroke=\"none\" fill=\"#aaa23b\" /><use xlink:href=\"#black-knight\" transform=\"translate(240, 105)\" /><rect x=\"285\" y=\"105\" width=\"45\" height=\"45\" class=\"square light g6\" stroke=\"none\" fill=\"#ffce9e\" /><rect x=\"330\" y=\"105\" width=\"45\" height=\"45\" class=\"square dark h6\" stroke=\"none\" fill=\"#d18b47\" /><rect x=\"15\" y=\"60\" width=\"45\" height=\"45\" class=\"square dark a7\" stroke=\"none\" fill=\"#d18b47\" /><use xlink:href=\"#black-pawn\" transform=\"translate(15, 60)\" /><rect x=\"60\" y=\"60\" width=\"45\" height=\"45\" class=\"square light b7\" stroke=\"none\" fill=\"#ffce9e\" /><use xlink:href=\"#black-pawn\" transform=\"translate(60, 60)\" /><rect x=\"105\" y=\"60\" width=\"45\" height=\"45\" class=\"square dark c7\" stroke=\"none\" fill=\"#d18b47\" /><use xlink:href=\"#black-pawn\" transform=\"translate(105, 60)\" /><rect x=\"150\" y=\"60\" width=\"45\" height=\"45\" class=\"square light d7\" stroke=\"none\" fill=\"#ffce9e\" /><rect x=\"195\" y=\"60\" width=\"45\" height=\"45\" class=\"square dark e7\" stroke=\"none\" fill=\"#d18b47\" /><rect x=\"240\" y=\"60\" width=\"45\" height=\"45\" class=\"square light f7\" stroke=\"none\" fill=\"#ffce9e\" /><use xlink:href=\"#black-pawn\" transform=\"translate(240, 60)\" /><rect x=\"285\" y=\"60\" width=\"45\" height=\"45\" class=\"square dark g7\" stroke=\"none\" fill=\"#d18b47\" /><use xlink:href=\"#black-pawn\" transform=\"translate(285, 60)\" /><rect x=\"330\" y=\"60\" width=\"45\" height=\"45\" class=\"square light h7\" stroke=\"none\" fill=\"#ffce9e\" /><use xlink:href=\"#black-pawn\" transform=\"translate(330, 60)\" /><rect x=\"15\" y=\"15\" width=\"45\" height=\"45\" class=\"square light a8\" stroke=\"none\" fill=\"#ffce9e\" /><use xlink:href=\"#black-rook\" transform=\"translate(15, 15)\" /><rect x=\"60\" y=\"15\" width=\"45\" height=\"45\" class=\"square dark b8\" stroke=\"none\" fill=\"#d18b47\" /><use xlink:href=\"#black-knight\" transform=\"translate(60, 15)\" /><rect x=\"105\" y=\"15\" width=\"45\" height=\"45\" class=\"square light c8\" stroke=\"none\" fill=\"#ffce9e\" /><use xlink:href=\"#black-bishop\" transform=\"translate(105, 15)\" /><rect x=\"150\" y=\"15\" width=\"45\" height=\"45\" class=\"square dark d8\" stroke=\"none\" fill=\"#d18b47\" /><use xlink:href=\"#black-queen\" transform=\"translate(150, 15)\" /><rect x=\"195\" y=\"15\" width=\"45\" height=\"45\" class=\"square light e8\" stroke=\"none\" fill=\"#ffce9e\" /><use xlink:href=\"#black-king\" transform=\"translate(195, 15)\" /><rect x=\"240\" y=\"15\" width=\"45\" height=\"45\" class=\"square dark f8\" stroke=\"none\" fill=\"#d18b47\" /><use xlink:href=\"#black-bishop\" transform=\"translate(240, 15)\" /><rect x=\"285\" y=\"15\" width=\"45\" height=\"45\" class=\"square light lastmove g8\" stroke=\"none\" fill=\"#cdd16a\" /><rect x=\"330\" y=\"15\" width=\"45\" height=\"45\" class=\"square dark h8\" stroke=\"none\" fill=\"#d18b47\" /><use xlink:href=\"#black-rook\" transform=\"translate(330, 15)\" /><g transform=\"translate(20, 0) scale(0.75, 0.75)\" fill=\"#e5e5e5\" stroke=\"#e5e5e5\"><path d=\"M23.328 10.016q-1.742 0-2.414.398-.672.398-.672 1.36 0 .765.5 1.218.508.445 1.375.445 1.196 0 1.914-.843.727-.852.727-2.258v-.32zm2.867-.594v4.992h-1.437v-1.328q-.492.797-1.227 1.18-.734.375-1.797.375-1.343 0-2.14-.75-.79-.758-.79-2.024 0-1.476.985-2.226.992-.75 2.953-.75h2.016V8.75q0-.992-.656-1.531-.649-.547-1.829-.547-.75 0-1.46.18-.711.18-1.368.539V6.062q.79-.304 1.532-.453.742-.156 1.445-.156 1.898 0 2.836.984.937.985.937 2.985z\" /></g><g transform=\"translate(20, 375) scale(0.75, 0.75)\" fill=\"#e5e5e5\" stroke=\"#e5e5e5\"><path d=\"M23.328 10.016q-1.742 0-2.414.398-.672.398-.672 1.36 0 .765.5 1.218.508.445 1.375.445 1.196 0 1.914-.843.727-.852.727-2.258v-.32zm2.867-.594v4.992h-1.437v-1.328q-.492.797-1.227 1.18-.734.375-1.797.375-1.343 0-2.14-.75-.79-.758-.79-2.024 0-1.476.985-2.226.992-.75 2.953-.75h2.016V8.75q0-.992-.656-1.531-.649-.547-1.829-.547-.75 0-1.46.18-.711.18-1.368.539V6.062q.79-.304 1.532-.453.742-.156 1.445-.156 1.898 0 2.836.984.937.985.937 2.985z\" /></g><g transform=\"translate(65, 0) scale(0.75, 0.75)\" fill=\"#e5e5e5\" stroke=\"#e5e5e5\"><path d=\"M24.922 10.047q0-1.586-.656-2.485-.649-.906-1.79-.906-1.14 0-1.796.906-.649.899-.649 2.485 0 1.586.649 2.492.656.898 1.797.898 1.14 0 1.789-.898.656-.906.656-2.492zm-4.89-3.055q.452-.781 1.14-1.156.695-.383 1.656-.383 1.594 0 2.586 1.266 1 1.265 1 3.328 0 2.062-1 3.328-.992 1.266-2.586 1.266-.96 0-1.656-.375-.688-.383-1.14-1.164v1.312h-1.446V2.258h1.445z\" /></g><g transform=\"translate(65, 375) scale(0.75, 0.75)\" fill=\"#e5e5e5\" stroke=\"#e5e5e5\"><path d=\"M24.922 10.047q0-1.586-.656-2.485-.649-.906-1.79-.906-1.14 0-1.796.906-.649.899-.649 2.485 0 1.586.649 2.492.656.898 1.797.898 1.14 0 1.789-.898.656-.906.656-2.492zm-4.89-3.055q.452-.781 1.14-1.156.695-.383 1.656-.383 1.594 0 2.586 1.266 1 1.265 1 3.328 0 2.062-1 3.328-.992 1.266-2.586 1.266-.96 0-1.656-.375-.688-.383-1.14-1.164v1.312h-1.446V2.258h1.445z\" /></g><g transform=\"translate(110, 0) scale(0.75, 0.75)\" fill=\"#e5e5e5\" stroke=\"#e5e5e5\"><path d=\"M25.96 6v1.344q-.608-.336-1.226-.5-.609-.172-1.234-.172-1.398 0-2.172.89-.773.883-.773 2.485 0 1.601.773 2.492.774.883 2.172.883.625 0 1.234-.164.618-.172 1.227-.508v1.328q-.602.281-1.25.422-.64.14-1.367.14-1.977 0-3.14-1.242-1.165-1.242-1.165-3.351 0-2.14 1.172-3.367 1.18-1.227 3.227-1.227.664 0 1.296.14.633.134 1.227.407z\" /></g><g transform=\"translate(110, 375) scale(0.75, 0.75)\" fill=\"#e5e5e5\" stroke=\"#e5e5e5\"><path d=\"M25.96 6v1.344q-.608-.336-1.226-.5-.609-.172-1.234-.172-1.398 0-2.172.89-.773.883-.773 2.485 0 1.601.773 2.492.774.883 2.172.883.625 0 1.234-.164.618-.172 1.227-.508v1.328q-.602.281-1.25.422-.64.14-1.367.14-1.977 0-3.14-1.242-1.165-1.242-1.165-3.351 0-2.14 1.172-3.367 1.18-1.227 3.227-1.227.664 0 1.296.14.633.134 1.227.407z\" /></g><g transform=\"translate(155, 0) scale(0.75, 0.75)\" fill=\"#e5e5e5\" stroke=\"#e5e5e5\"><path d=\"M24.973 6.992V2.258h1.437v12.156h-1.437v-1.312q-.453.78-1.149 1.164-.687.375-1.656.375-1.586 0-2.586-1.266-.992-1.266-.992-3.328 0-2.063.992-3.328 1-1.266 2.586-1.266.969 0 1.656.383.696.375 1.149 1.156zm-4.899 3.055q0 1.586.649 2.492.656.898 1.797.898 1.14 0 1.796-.898.657-.906.657-2.492 0-1.586-.657-2.485-.656-.906-1.796-.906-1.141 0-1.797.906-.649.899-.649 2.485z\" /></g><g transform=\"translate(155, 375) scale(0.75, 0.75)\" fill=\"#e5e5e5\" stroke=\"#e5e5e5\"><path d=\"M24.973 6.992V2.258h1.437v12.156h-1.437v-1.312q-.453.78-1.149 1.164-.687.375-1.656.375-1.586 0-2.586-1.266-.992-1.266-.992-3.328 0-2.063.992-3.328 1-1.266 2.586-1.266.969 0 1.656.383.696.375 1.149 1.156zm-4.899 3.055q0 1.586.649 2.492.656.898 1.797.898 1.14 0 1.796-.898.657-.906.657-2.492 0-1.586-.657-2.485-.656-.906-1.796-.906-1.141 0-1.797.906-.649.899-.649 2.485z\" /></g><g transform=\"translate(200, 0) scale(0.75, 0.75)\" fill=\"#e5e5e5\" stroke=\"#e5e5e5\"><path d=\"M26.555 9.68v.703h-6.61q.094 1.484.89 2.265.806.774 2.235.774.828 0 1.602-.203.781-.203 1.547-.61v1.36q-.774.328-1.586.5-.813.172-1.649.172-2.093 0-3.32-1.22-1.219-1.218-1.219-3.296 0-2.148 1.157-3.406 1.164-1.266 3.132-1.266 1.766 0 2.79 1.14 1.03 1.134 1.03 3.087zm-1.438-.422q-.015-1.18-.664-1.883-.64-.703-1.703-.703-1.203 0-1.93.68-.718.68-.828 1.914z\" /></g><g transform=\"translate(200, 375) scale(0.75, 0.75)\" fill=\"#e5e5e5\" stroke=\"#e5e5e5\"><path d=\"M26.555 9.68v.703h-6.61q.094 1.484.89 2.265.806.774 2.235.774.828 0 1.602-.203.781-.203 1.547-.61v1.36q-.774.328-1.586.5-.813.172-1.649.172-2.093 0-3.32-1.22-1.219-1.218-1.219-3.296 0-2.148 1.157-3.406 1.164-1.266 3.132-1.266 1.766 0 2.79 1.14 1.03 1.134 1.03 3.087zm-1.438-.422q-.015-1.18-.664-1.883-.64-.703-1.703-.703-1.203 0-1.93.68-.718.68-.828 1.914z\" /></g><g transform=\"translate(245, 0) scale(0.75, 0.75)\" fill=\"#e5e5e5\" stroke=\"#e5e5e5\"><path d=\"M25.285 2.258v1.195H23.91q-.773 0-1.078.313-.297.312-.297 1.125v.773h2.367v1.117h-2.367v7.633H21.09V6.781h-1.375V5.664h1.375v-.61q0-1.46.68-2.124.68-.672 2.156-.672z\" /></g><g transform=\"translate(245, 375) scale(0.75, 0.75)\" fill=\"#e5e5e5\" stroke=\"#e5e5e5\"><path d=\"M25.285 2.258v1.195H23.91q-.773 0-1.078.313-.297.312-.297 1.125v.773h2.367v1.117h-2.367v7.633H21.09V6.781h-1.375V5.664h1.375v-.61q0-1.46.68-2.124.68-.672 2.156-.672z\" /></g><g transform=\"translate(290, 0) scale(0.75, 0.75)\" fill=\"#e5e5e5\" stroke=\"#e5e5e5\"><path d=\"M24.973 9.937q0-1.562-.649-2.421-.64-.86-1.804-.86-1.157 0-1.805.86-.64.859-.64 2.421 0 1.555.64 2.415.648.859 1.805.859 1.164 0 1.804-.86.649-.859.649-2.414zm1.437 3.391q0 2.234-.992 3.32-.992 1.094-3.04 1.094-.757 0-1.429-.117-.672-.11-1.304-.344v-1.398q.632.344 1.25.508.617.164 1.257.164 1.414 0 2.118-.743.703-.734.703-2.226v-.711q-.446.773-1.141 1.156-.695.383-1.664.383-1.61 0-2.594-1.227-.984-1.226-.984-3.25 0-2.03.984-3.257.985-1.227 2.594-1.227.969 0 1.664.383t1.14 1.156V5.664h1.438z\" /></g><g transform=\"translate(290, 375) scale(0.75, 0.75)\" fill=\"#e5e5e5\" stroke=\"#e5e5e5\"><path d=\"M24.973 9.937q0-1.562-.649-2.421-.64-.86-1.804-.86-1.157 0-1.805.86-.64.859-.64 2.421 0 1.555.64 2.415.648.859 1.805.859 1.164 0 1.804-.86.649-.859.649-2.414zm1.437 3.391q0 2.234-.992 3.32-.992 1.094-3.04 1.094-.757 0-1.429-.117-.672-.11-1.304-.344v-1.398q.632.344 1.25.508.617.164 1.257.164 1.414 0 2.118-.743.703-.734.703-2.226v-.711q-.446.773-1.141 1.156-.695.383-1.664.383-1.61 0-2.594-1.227-.984-1.226-.984-3.25 0-2.03.984-3.257.985-1.227 2.594-1.227.969 0 1.664.383t1.14 1.156V5.664h1.438z\" /></g><g transform=\"translate(335, 0) scale(0.75, 0.75)\" fill=\"#e5e5e5\" stroke=\"#e5e5e5\"><path d=\"M26.164 9.133v5.281h-1.437V9.18q0-1.243-.485-1.86-.484-.617-1.453-.617-1.164 0-1.836.742-.672.742-.672 2.024v4.945h-1.445V2.258h1.445v4.765q.516-.789 1.211-1.18.703-.39 1.617-.39 1.508 0 2.282.938.773.93.773 2.742z\" /></g><g transform=\"translate(335, 375) scale(0.75, 0.75)\" fill=\"#e5e5e5\" stroke=\"#e5e5e5\"><path d=\"M26.164 9.133v5.281h-1.437V9.18q0-1.243-.485-1.86-.484-.617-1.453-.617-1.164 0-1.836.742-.672.742-.672 2.024v4.945h-1.445V2.258h1.445v4.765q.516-.789 1.211-1.18.703-.39 1.617-.39 1.508 0 2.282.938.773.93.773 2.742z\" /></g><g transform=\"translate(0, 335) scale(0.75, 0.75)\" fill=\"#e5e5e5\" stroke=\"#e5e5e5\"><path d=\"M6.754 26.996h2.578v-8.898l-2.805.562v-1.437l2.79-.563h1.578v10.336h2.578v1.328h-6.72z\" /></g><g transform=\"translate(375, 335) scale(0.75, 0.75)\" fill=\"#e5e5e5\" stroke=\"#e5e5e5\"><path d=\"M6.754 26.996h2.578v-8.898l-2.805.562v-1.437l2.79-.563h1.578v10.336h2.578v1.328h-6.72z\" /></g><g transform=\"translate(0, 290) scale(0.75, 0.75)\" fill=\"#e5e5e5\" stroke=\"#e5e5e5\"><path d=\"M8.195 26.996h5.508v1.328H6.297v-1.328q.898-.93 2.445-2.492 1.555-1.57 1.953-2.024.758-.851 1.055-1.437.305-.594.305-1.164 0-.93-.657-1.516-.648-.586-1.695-.586-.742 0-1.57.258-.82.258-1.758.781v-1.593q.953-.383 1.781-.578.828-.196 1.516-.196 1.812 0 2.89.906 1.079.907 1.079 2.422 0 .72-.274 1.368-.265.64-.976 1.515-.196.227-1.243 1.313-1.046 1.078-2.953 3.023z\" /></g><g transform=\"translate(375, 290) scale(0.75, 0.75)\" fill=\"#e5e5e5\" stroke=\"#e5e5e5\"><path d=\"M8.195 26.996h5.508v1.328H6.297v-1.328q.898-.93 2.445-2.492 1.555-1.57 1.953-2.024.758-.851 1.055-1.437.305-.594.305-1.164 0-.93-.657-1.516-.648-.586-1.695-.586-.742 0-1.57.258-.82.258-1.758.781v-1.593q.953-.383 1.781-.578.828-.196 1.516-.196 1.812 0 2.89.906 1.079.907 1.079 2.422 0 .72-.274 1.368-.265.64-.976 1.515-.196.227-1.243 1.313-1.046 1.078-2.953 3.023z\" /></g><g transform=\"translate(0, 245) scale(0.75, 0.75)\" fill=\"#e5e5e5\" stroke=\"#e5e5e5\"><path d=\"M11.434 22.035q1.132.242 1.765 1.008.64.766.64 1.89 0 1.727-1.187 2.672-1.187.946-3.375.946-.734 0-1.515-.149-.774-.14-1.602-.43V26.45q.656.383 1.438.578.78.196 1.632.196 1.485 0 2.258-.586.782-.586.782-1.703 0-1.032-.727-1.61-.719-.586-2.008-.586h-1.36v-1.297h1.423q1.164 0 1.78-.46.618-.47.618-1.344 0-.899-.64-1.375-.633-.485-1.82-.485-.65 0-1.391.141-.743.14-1.633.437V16.95q.898-.25 1.68-.375.788-.125 1.484-.125 1.797 0 2.844.82 1.046.813 1.046 2.204 0 .968-.554 1.64-.555.664-1.578.922z\" /></g><g transform=\"translate(375, 245) scale(0.75, 0.75)\" fill=\"#e5e5e5\" stroke=\"#e5e5e5\"><path d=\"M11.434 22.035q1.132.242 1.765 1.008.64.766.64 1.89 0 1.727-1.187 2.672-1.187.946-3.375.946-.734 0-1.515-.149-.774-.14-1.602-.43V26.45q.656.383 1.438.578.78.196 1.632.196 1.485 0 2.258-.586.782-.586.782-1.703 0-1.032-.727-1.61-.719-.586-2.008-.586h-1.36v-1.297h1.423q1.164 0 1.78-.46.618-.47.618-1.344 0-.899-.64-1.375-.633-.485-1.82-.485-.65 0-1.391.141-.743.14-1.633.437V16.95q.898-.25 1.68-.375.788-.125 1.484-.125 1.797 0 2.844.82 1.046.813 1.046 2.204 0 .968-.554 1.64-.555.664-1.578.922z\" /></g><g transform=\"translate(0, 200) scale(0.75, 0.75)\" fill=\"#e5e5e5\" stroke=\"#e5e5e5\"><path d=\"M11.016 18.035L7.03 24.262h3.985zm-.414-1.375h1.984v7.602h1.664v1.312h-1.664v2.75h-1.57v-2.75H5.75v-1.523z\" /></g><g transform=\"translate(375, 200) scale(0.75, 0.75)\" fill=\"#e5e5e5\" stroke=\"#e5e5e5\"><path d=\"M11.016 18.035L7.03 24.262h3.985zm-.414-1.375h1.984v7.602h1.664v1.312h-1.664v2.75h-1.57v-2.75H5.75v-1.523z\" /></g><g transform=\"translate(0, 155) scale(0.75, 0.75)\" fill=\"#e5e5e5\" stroke=\"#e5e5e5\"><path d=\"M6.719 16.66h6.195v1.328h-4.75v2.86q.344-.118.688-.172.343-.063.687-.063 1.953 0 3.094 1.07 1.14 1.07 1.14 2.899 0 1.883-1.171 2.93-1.172 1.039-3.305 1.039-.735 0-1.5-.125-.758-.125-1.57-.375v-1.586q.703.383 1.453.57.75.188 1.586.188 1.351 0 2.14-.711.79-.711.79-1.93 0-1.219-.79-1.93-.789-.71-2.14-.71-.633 0-1.266.14-.625.14-1.281.438z\" /></g><g transform=\"translate(375, 155) scale(0.75, 0.75)\" fill=\"#e5e5e5\" stroke=\"#e5e5e5\"><path d=\"M6.719 16.66h6.195v1.328h-4.75v2.86q.344-.118.688-.172.343-.063.687-.063 1.953 0 3.094 1.07 1.14 1.07 1.14 2.899 0 1.883-1.171 2.93-1.172 1.039-3.305 1.039-.735 0-1.5-.125-.758-.125-1.57-.375v-1.586q.703.383 1.453.57.75.188 1.586.188 1.351 0 2.14-.711.79-.711.79-1.93 0-1.219-.79-1.93-.789-.71-2.14-.71-.633 0-1.266.14-.625.14-1.281.438z\" /></g><g transform=\"translate(0, 110) scale(0.75, 0.75)\" fill=\"#e5e5e5\" stroke=\"#e5e5e5\"><path d=\"M10.137 21.863q-1.063 0-1.688.727-.617.726-.617 1.992 0 1.258.617 1.992.625.727 1.688.727 1.062 0 1.68-.727.624-.734.624-1.992 0-1.266-.625-1.992-.617-.727-1.68-.727zm3.133-4.945v1.437q-.594-.28-1.204-.43-.601-.148-1.195-.148-1.562 0-2.39 1.055-.82 1.055-.938 3.188.46-.68 1.156-1.04.696-.367 1.531-.367 1.758 0 2.774 1.07 1.023 1.063 1.023 2.899 0 1.797-1.062 2.883-1.063 1.086-2.828 1.086-2.024 0-3.094-1.547-1.07-1.555-1.07-4.5 0-2.766 1.312-4.406 1.313-1.649 3.524-1.649.593 0 1.195.117.61.118 1.266.352z\" /></g><g transform=\"translate(375, 110) scale(0.75, 0.75)\" fill=\"#e5e5e5\" stroke=\"#e5e5e5\"><path d=\"M10.137 21.863q-1.063 0-1.688.727-.617.726-.617 1.992 0 1.258.617 1.992.625.727 1.688.727 1.062 0 1.68-.727.624-.734.624-1.992 0-1.266-.625-1.992-.617-.727-1.68-.727zm3.133-4.945v1.437q-.594-.28-1.204-.43-.601-.148-1.195-.148-1.562 0-2.39 1.055-.82 1.055-.938 3.188.46-.68 1.156-1.04.696-.367 1.531-.367 1.758 0 2.774 1.07 1.023 1.063 1.023 2.899 0 1.797-1.062 2.883-1.063 1.086-2.828 1.086-2.024 0-3.094-1.547-1.07-1.555-1.07-4.5 0-2.766 1.312-4.406 1.313-1.649 3.524-1.649.593 0 1.195.117.61.118 1.266.352z\" /></g><g transform=\"translate(0, 65) scale(0.75, 0.75)\" fill=\"#e5e5e5\" stroke=\"#e5e5e5\"><path d=\"M6.25 16.66h7.5v.672L9.516 28.324H7.867l3.985-10.336H6.25z\" /></g><g transform=\"translate(375, 65) scale(0.75, 0.75)\" fill=\"#e5e5e5\" stroke=\"#e5e5e5\"><path d=\"M6.25 16.66h7.5v.672L9.516 28.324H7.867l3.985-10.336H6.25z\" /></g><g transform=\"translate(0, 20) scale(0.75, 0.75)\" fill=\"#e5e5e5\" stroke=\"#e5e5e5\"><path d=\"M10 22.785q-1.125 0-1.773.602-.641.601-.641 1.656t.64 1.656q.649.602 1.774.602t1.773-.602q.649-.61.649-1.656 0-1.055-.649-1.656-.64-.602-1.773-.602zm-1.578-.672q-1.016-.25-1.586-.945-.563-.695-.563-1.695 0-1.399.993-2.211 1-.813 2.734-.813 1.742 0 2.734.813.993.812.993 2.21 0 1-.57 1.696-.563.695-1.571.945 1.14.266 1.773 1.04.641.773.641 1.89 0 1.695-1.04 2.602-1.03.906-2.96.906t-2.969-.906Q6 26.738 6 25.043q0-1.117.64-1.89.641-.774 1.782-1.04zm-.578-2.492q0 .906.562 1.414.57.508 1.594.508 1.016 0 1.586-.508.578-.508.578-1.414 0-.906-.578-1.414-.57-.508-1.586-.508-1.023 0-1.594.508-.562.508-.562 1.414z\" /></g><g transform=\"translate(375, 20) scale(0.75, 0.75)\" fill=\"#e5e5e5\" stroke=\"#e5e5e5\"><path d=\"M10 22.785q-1.125 0-1.773.602-.641.601-.641 1.656t.64 1.656q.649.602 1.774.602t1.773-.602q.649-.61.649-1.656 0-1.055-.649-1.656-.64-.602-1.773-.602zm-1.578-.672q-1.016-.25-1.586-.945-.563-.695-.563-1.695 0-1.399.993-2.211 1-.813 2.734-.813 1.742 0 2.734.813.993.812.993 2.21 0 1-.57 1.696-.563.695-1.571.945 1.14.266 1.773 1.04.641.773.641 1.89 0 1.695-1.04 2.602-1.03.906-2.96.906t-2.969-.906Q6 26.738 6 25.043q0-1.117.64-1.89.641-.774 1.782-1.04zm-.578-2.492q0 .906.562 1.414.57.508 1.594.508 1.016 0 1.586-.508.578-.508.578-1.414 0-.906-.578-1.414-.57-.508-1.586-.508-1.023 0-1.594.508-.562.508-.562 1.414z\" /></g></svg>"
      ],
      "text/plain": [
       "Board('rnbqkb1r/ppp2ppp/4pn2/3p4/2PP4/2N5/PP2PPPP/R1BQKBNR w KQkq - 2 4')"
      ]
     },
     "execution_count": 8,
     "metadata": {},
     "output_type": "execute_result"
    }
   ],
   "source": [
    "#LINE = ['e4', 'c5', 'Nf3', 'Nc6', 'd4', 'cxd4', 'Nxd4', ]  # open sicilian\n",
    "LINE = ['d4', 'd5', 'c4', 'e6', 'Nc3', 'Nf6']  #\n",
    "WHITE = None\n",
    "BLACK = None\n",
    "\n",
    "(BOARD := get_board_for_moves(LINE))"
   ]
  },
  {
   "cell_type": "code",
   "execution_count": 9,
   "metadata": {},
   "outputs": [
    {
     "name": "stdout",
     "output_type": "stream",
     "text": [
      "134\n"
     ]
    }
   ],
   "source": [
    "filtered_trie = filter_trie(trie,\n",
    "                            moves=LINE,\n",
    "                            white=WHITE,\n",
    "                            black=BLACK)\n",
    "\n",
    "line_trie = get_sub_trie(filtered_trie, LINE)\n",
    "move_df = build_move_df(line_trie)\n",
    "print(len(move_df))"
   ]
  },
  {
   "cell_type": "markdown",
   "metadata": {},
   "source": [
    "## Statistics"
   ]
  },
  {
   "cell_type": "code",
   "execution_count": 10,
   "metadata": {},
   "outputs": [],
   "source": [
    "from statistics import get_count_df\n",
    "from utils import round_nearest"
   ]
  },
  {
   "cell_type": "code",
   "execution_count": 11,
   "metadata": {},
   "outputs": [
    {
     "data": {
      "text/html": [
       "<div>\n",
       "<style scoped>\n",
       "    .dataframe tbody tr th:only-of-type {\n",
       "        vertical-align: middle;\n",
       "    }\n",
       "\n",
       "    .dataframe tbody tr th {\n",
       "        vertical-align: top;\n",
       "    }\n",
       "\n",
       "    .dataframe thead th {\n",
       "        text-align: right;\n",
       "    }\n",
       "</style>\n",
       "<table border=\"1\" class=\"dataframe\">\n",
       "  <thead>\n",
       "    <tr style=\"text-align: right;\">\n",
       "      <th>move</th>\n",
       "      <th>Bf4</th>\n",
       "      <th>Bg5</th>\n",
       "      <th>Nf3</th>\n",
       "      <th>a3</th>\n",
       "      <th>cxd5</th>\n",
       "      <th>e3</th>\n",
       "    </tr>\n",
       "    <tr>\n",
       "      <th>year</th>\n",
       "      <th></th>\n",
       "      <th></th>\n",
       "      <th></th>\n",
       "      <th></th>\n",
       "      <th></th>\n",
       "      <th></th>\n",
       "    </tr>\n",
       "  </thead>\n",
       "  <tbody>\n",
       "    <tr>\n",
       "      <th>2002</th>\n",
       "      <td>0.0</td>\n",
       "      <td>5.0</td>\n",
       "      <td>1.0</td>\n",
       "      <td>0.0</td>\n",
       "      <td>4.0</td>\n",
       "      <td>1.0</td>\n",
       "    </tr>\n",
       "    <tr>\n",
       "      <th>2003</th>\n",
       "      <td>1.0</td>\n",
       "      <td>26.0</td>\n",
       "      <td>10.0</td>\n",
       "      <td>1.0</td>\n",
       "      <td>9.0</td>\n",
       "      <td>0.0</td>\n",
       "    </tr>\n",
       "    <tr>\n",
       "      <th>2004</th>\n",
       "      <td>0.0</td>\n",
       "      <td>43.0</td>\n",
       "      <td>11.0</td>\n",
       "      <td>1.0</td>\n",
       "      <td>18.0</td>\n",
       "      <td>2.0</td>\n",
       "    </tr>\n",
       "  </tbody>\n",
       "</table>\n",
       "</div>"
      ],
      "text/plain": [
       "move  Bf4   Bg5   Nf3   a3  cxd5   e3\n",
       "year                                 \n",
       "2002  0.0   5.0   1.0  0.0   4.0  1.0\n",
       "2003  1.0  26.0  10.0  1.0   9.0  0.0\n",
       "2004  0.0  43.0  11.0  1.0  18.0  2.0"
      ]
     },
     "execution_count": 11,
     "metadata": {},
     "output_type": "execute_result"
    }
   ],
   "source": [
    "get_count_df(move_df,\n",
    "             by='year',\n",
    "             bin_width=1,\n",
    "             map_fn=lambda df: round_nearest(df['year'] + (df['month']/12).round(1), 1))"
   ]
  },
  {
   "cell_type": "markdown",
   "metadata": {},
   "source": [
    "## Visualizing"
   ]
  },
  {
   "cell_type": "code",
   "execution_count": 12,
   "metadata": {},
   "outputs": [],
   "source": [
    "from IPython.core.display import display, HTML\n",
    "from cairosvg import svg2png\n",
    "from report import generate_report"
   ]
  },
  {
   "cell_type": "code",
   "execution_count": 13,
   "metadata": {},
   "outputs": [],
   "source": [
    "N = 5\n",
    "ELO_BIN_WIDTH = 400\n",
    "YEAR_BIN_WIDTH = 1"
   ]
  },
  {
   "cell_type": "code",
   "execution_count": 14,
   "metadata": {},
   "outputs": [
    {
     "name": "stdout",
     "output_type": "stream",
     "text": [
      "['Bg5', 'cxd5', 'Nf3', 'e3', 'a3']\n"
     ]
    }
   ],
   "source": [
    "top_moves = move_df['move'].value_counts().iloc[:N].index.values.tolist()\n",
    "print(top_moves)\n",
    "\n",
    "top_moves_df = move_df[move_df['move'].isin(top_moves)]"
   ]
  },
  {
   "cell_type": "code",
   "execution_count": 15,
   "metadata": {},
   "outputs": [
    {
     "data": {
      "text/plain": [
       "['d4', 'd5', 'c4', 'e6', 'Nc3', 'Nf6']"
      ]
     },
     "execution_count": 15,
     "metadata": {},
     "output_type": "execute_result"
    }
   ],
   "source": [
    "LINE"
   ]
  },
  {
   "cell_type": "code",
   "execution_count": 16,
   "metadata": {
    "scrolled": false
   },
   "outputs": [],
   "source": [
    "BOARD; svg2png(bytestring=BOARD._repr_svg_(), write_to='board.png')"
   ]
  },
  {
   "cell_type": "markdown",
   "metadata": {},
   "source": [
    "### Moves by ELO and year"
   ]
  },
  {
   "cell_type": "code",
   "execution_count": 17,
   "metadata": {},
   "outputs": [
    {
     "data": {
      "text/plain": [
       "<Figure size 576x360 with 0 Axes>"
      ]
     },
     "metadata": {},
     "output_type": "display_data"
    },
    {
     "data": {
      "image/png": "[encoded data removed]",
      "text/plain": [
       "<Figure size 426.1x360 with 1 Axes>"
      ]
     },
     "metadata": {},
     "output_type": "display_data"
    },
    {
     "data": {
      "image/png": "[encoded data removed]",
      "text/plain": [
       "<Figure size 576x360 with 1 Axes>"
      ]
     },
     "metadata": {},
     "output_type": "display_data"
    },
    {
     "data": {
      "image/png": "[encoded data removed]",
      "text/plain": [
       "<Figure size 576x360 with 1 Axes>"
      ]
     },
     "metadata": {},
     "output_type": "display_data"
    }
   ],
   "source": [
    "elo_report_html = generate_report(top_moves_df, var='avg_elo');\n",
    "year_report_html = lambda x: x.split(' ')"
   ]
  },
  {
   "cell_type": "code",
   "execution_count": 18,
   "metadata": {},
   "outputs": [
    {
     "data": {
      "text/html": [
       "\n",
       "        <div style=\"display:block; width:800px;\">\n",
       "            \n",
       "            \n",
       "            <div style=\"display:flex\">\n",
       "                <div style=\"margin:auto;\"><img src=\"data:image/png;base64,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\" /> </div>\n",
       "                <div style=\"margin:auto;\"><table border=\"1\" class=\"dataframe\">\n",
       "  <thead>\n",
       "    <tr style=\"text-align: right;\">\n",
       "      <th>move</th>\n",
       "      <th>Bg5</th>\n",
       "      <th>Nf3</th>\n",
       "      <th>a3</th>\n",
       "      <th>cxd5</th>\n",
       "      <th>e3</th>\n",
       "    </tr>\n",
       "    <tr>\n",
       "      <th>avg_elo</th>\n",
       "      <th></th>\n",
       "      <th></th>\n",
       "      <th></th>\n",
       "      <th></th>\n",
       "      <th></th>\n",
       "    </tr>\n",
       "  </thead>\n",
       "  <tbody>\n",
       "    <tr>\n",
       "      <th>1200</th>\n",
       "      <td>5.0</td>\n",
       "      <td>1.0</td>\n",
       "      <td>0.0</td>\n",
       "      <td>0.0</td>\n",
       "      <td>0.0</td>\n",
       "    </tr>\n",
       "    <tr>\n",
       "      <th>1600</th>\n",
       "      <td>6.0</td>\n",
       "      <td>1.0</td>\n",
       "      <td>0.0</td>\n",
       "      <td>2.0</td>\n",
       "      <td>1.0</td>\n",
       "    </tr>\n",
       "    <tr>\n",
       "      <th>2000</th>\n",
       "      <td>25.0</td>\n",
       "      <td>7.0</td>\n",
       "      <td>1.0</td>\n",
       "      <td>10.0</td>\n",
       "      <td>1.0</td>\n",
       "    </tr>\n",
       "    <tr>\n",
       "      <th>2400</th>\n",
       "      <td>18.0</td>\n",
       "      <td>5.0</td>\n",
       "      <td>0.0</td>\n",
       "      <td>14.0</td>\n",
       "      <td>0.0</td>\n",
       "    </tr>\n",
       "    <tr>\n",
       "      <th>2800</th>\n",
       "      <td>0.0</td>\n",
       "      <td>1.0</td>\n",
       "      <td>0.0</td>\n",
       "      <td>0.0</td>\n",
       "      <td>0.0</td>\n",
       "    </tr>\n",
       "  </tbody>\n",
       "</table></div>\n",
       "            </div>\n",
       "            <div style=\"display:flex\">\n",
       "                <div style=\"margin:auto;\"><img src=\"data:image/png;base64,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\" /> </div>\n",
       "                <div style=\"margin:auto;\"><table border=\"1\" class=\"dataframe\">\n",
       "  <thead>\n",
       "    <tr style=\"text-align: right;\">\n",
       "      <th>move</th>\n",
       "      <th>Bg5</th>\n",
       "      <th>Nf3</th>\n",
       "      <th>a3</th>\n",
       "      <th>cxd5</th>\n",
       "      <th>e3</th>\n",
       "    </tr>\n",
       "    <tr>\n",
       "      <th>avg_elo</th>\n",
       "      <th></th>\n",
       "      <th></th>\n",
       "      <th></th>\n",
       "      <th></th>\n",
       "      <th></th>\n",
       "    </tr>\n",
       "  </thead>\n",
       "  <tbody>\n",
       "    <tr>\n",
       "      <th>1200</th>\n",
       "      <td>0.833</td>\n",
       "      <td>0.167</td>\n",
       "      <td>0.000</td>\n",
       "      <td>0.000</td>\n",
       "      <td>0.000</td>\n",
       "    </tr>\n",
       "    <tr>\n",
       "      <th>1600</th>\n",
       "      <td>0.600</td>\n",
       "      <td>0.100</td>\n",
       "      <td>0.000</td>\n",
       "      <td>0.200</td>\n",
       "      <td>0.100</td>\n",
       "    </tr>\n",
       "    <tr>\n",
       "      <th>2000</th>\n",
       "      <td>0.568</td>\n",
       "      <td>0.159</td>\n",
       "      <td>0.023</td>\n",
       "      <td>0.227</td>\n",
       "      <td>0.023</td>\n",
       "    </tr>\n",
       "    <tr>\n",
       "      <th>2400</th>\n",
       "      <td>0.486</td>\n",
       "      <td>0.135</td>\n",
       "      <td>0.000</td>\n",
       "      <td>0.378</td>\n",
       "      <td>0.000</td>\n",
       "    </tr>\n",
       "    <tr>\n",
       "      <th>2800</th>\n",
       "      <td>0.000</td>\n",
       "      <td>1.000</td>\n",
       "      <td>0.000</td>\n",
       "      <td>0.000</td>\n",
       "      <td>0.000</td>\n",
       "    </tr>\n",
       "  </tbody>\n",
       "</table></div>\n",
       "            </div>\n",
       "            <div>\n",
       "                <div><img src=\"data:image/png;base64,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\"/></div>\n",
       "            </div>\n",
       "        </div>\n",
       "    "
      ],
      "text/plain": [
       "<IPython.core.display.HTML object>"
      ]
     },
     "metadata": {},
     "output_type": "display_data"
    }
   ],
   "source": [
    "display(HTML(elo_report_html))"
   ]
  },
  {
   "cell_type": "code",
   "execution_count": 19,
   "metadata": {},
   "outputs": [],
   "source": [
    "#display(HTML(year_report_html))"
   ]
  },
  {
   "cell_type": "markdown",
   "metadata": {},
   "source": [
    "## Analysis"
   ]
  },
  {
   "cell_type": "markdown",
   "metadata": {},
   "source": [
    "### Get most commons lines from starting position"
   ]
  },
  {
   "cell_type": "code",
   "execution_count": 20,
   "metadata": {},
   "outputs": [],
   "source": [
    "from collections import namedtuple\n",
    "import pandas as pd\n",
    "import numpy as np\n",
    "import networkx as nx\n",
    "from analysis import get_top_lines"
   ]
  },
  {
   "cell_type": "code",
   "execution_count": 21,
   "metadata": {},
   "outputs": [
    {
     "name": "stdout",
     "output_type": "stream",
     "text": [
      "20 lines make up 76.1% of the lines starting from ['d4', 'd5', 'c4', 'e6', 'Nc3', 'Nf6']\n",
      "\t0.1194 ['Bg5', 'Be7', 'e3', 'O-O'] [0.552, 0.595, 0.705, 0.516] [74, 44, 31, 16]\n",
      "\t0.10448 ['cxd5', 'exd5', 'Bg5', 'Be7'] [0.231, 0.935, 0.966, 0.5] [31, 29, 28, 14]\n",
      "\t0.0597 ['cxd5', 'exd5', 'Bg5', 'Nbd7'] [0.231, 0.935, 0.966, 0.286] [31, 29, 28, 8]\n",
      "\t0.05224 ['Bg5', 'Nbd7', 'cxd5', 'exd5'] [0.552, 0.324, 0.292, 1.0] [74, 24, 7, 7]\n",
      "\t0.04478 ['Bg5', 'Be7', 'e3', 'h6'] [0.552, 0.595, 0.705, 0.194] [74, 44, 31, 6]\n",
      "\t0.04478 ['Bg5', 'Be7', 'cxd5', 'exd5'] [0.552, 0.595, 0.136, 1.0] [74, 44, 6, 6]\n",
      "\t0.04478 ['cxd5', 'exd5', 'Bg5', 'c6'] [0.231, 0.935, 0.966, 0.214] [31, 29, 28, 6]\n",
      "\t0.03731 ['Bg5', 'Nbd7', 'e3', 'c6'] [0.552, 0.324, 0.333, 0.625] [74, 24, 8, 5]\n",
      "\t0.03731 ['Bg5', 'Nbd7', 'Nf3', 'c6'] [0.552, 0.324, 0.375, 0.556] [74, 24, 9, 5]\n",
      "\t0.02985 ['Bg5', 'Be7', 'e3', 'Nbd7'] [0.552, 0.595, 0.705, 0.129] [74, 44, 31, 4]\n",
      "\t0.02239 ['Bg5', 'Be7', 'e3', 'c6'] [0.552, 0.595, 0.705, 0.097] [74, 44, 31, 3]\n",
      "\t0.02239 ['Bg5', 'Nbd7', 'e3', 'Be7'] [0.552, 0.324, 0.333, 0.375] [74, 24, 8, 3]\n",
      "\t0.02239 ['Bg5', 'Nbd7', 'Nf3', 'Be7'] [0.552, 0.324, 0.375, 0.333] [74, 24, 9, 3]\n",
      "\t0.02239 ['Nf3', 'c6', 'Bg5', 'Nbd7'] [0.164, 0.318, 0.429, 1.0] [22, 7, 3, 3]\n",
      "\t0.02239 ['Nf3', 'Nbd7', 'Bg5', 'Be7'] [0.164, 0.182, 0.75, 1.0] [22, 4, 3, 3]\n",
      "\t0.01493 ['Nf3', 'Be7', 'e3', 'O-O'] [0.164, 0.364, 0.25, 1.0] [22, 8, 2, 2]\n",
      "\t0.01493 ['Nf3', 'Be7', 'Bg5', 'O-O'] [0.164, 0.364, 0.375, 0.667] [22, 8, 3, 2]\n",
      "\t0.01493 ['Bg5', 'Be7', 'e3', 'b6'] [0.552, 0.595, 0.705, 0.065] [74, 44, 31, 2]\n",
      "\t0.01493 ['Bg5', 'Be7', 'Nf3', 'h6'] [0.552, 0.595, 0.159, 0.286] [74, 44, 7, 2]\n",
      "\t0.01493 ['Bg5', 'Be7', 'Nf3', 'c6'] [0.552, 0.595, 0.159, 0.286] [74, 44, 7, 2]\n"
     ]
    }
   ],
   "source": [
    "M = 20\n",
    "D = 3\n",
    "\n",
    "top_lines = get_top_lines(line_trie, max_depth=D)[:M]\n",
    "top_lines_df = pd.DataFrame(line._asdict() for line in top_lines)\n",
    "\n",
    "accum_prob = sum(l.score for l in top_lines)\n",
    "print(f\"{M} lines make up {accum_prob*100:.1f}% of the lines starting from {LINE}\")\n",
    "for line in top_lines:\n",
    "    print(f\"\\t{np.round(line.score, 5)} {line.moves} {np.round(line.freqs, 3).tolist()} {line.counts}\")"
   ]
  },
  {
   "cell_type": "markdown",
   "metadata": {},
   "source": [
    "### AlphaZero Analysis"
   ]
  },
  {
   "cell_type": "code",
   "execution_count": 22,
   "metadata": {},
   "outputs": [
    {
     "name": "stdout",
     "output_type": "stream",
     "text": [
      "0\n",
      "100\n",
      "200\n",
      "make_game_trie took 65.93s\n",
      "220\n"
     ]
    }
   ],
   "source": [
    "az_games_gen = games_generator_from_file('../../alphazero_220.pgn', print_every=100)\n",
    "az_trie = make_game_trie(az_games_gen)\n",
    "print(count_trie(az_trie))"
   ]
  },
  {
   "cell_type": "markdown",
   "metadata": {},
   "source": [
    "#### Find all games where a6 was played by white"
   ]
  },
  {
   "cell_type": "code",
   "execution_count": 23,
   "metadata": {},
   "outputs": [
    {
     "data": {
      "text/plain": [
       "32"
      ]
     },
     "execution_count": 23,
     "metadata": {},
     "output_type": "execute_result"
    }
   ],
   "source": [
    "count_trie(filter_trie(az_trie, white_moves={'a6'}))"
   ]
  },
  {
   "cell_type": "markdown",
   "metadata": {},
   "source": [
    "### Garry Kasparov Analysis"
   ]
  },
  {
   "cell_type": "code",
   "execution_count": 24,
   "metadata": {},
   "outputs": [],
   "source": [
    "from game import get_board_for_moves, get_boards_for_moves, get_FEN_to_games\n",
    "\n",
    "def find_move_orders_reaching_fen(games, fen):\n",
    "    move_orders = set()\n",
    "    for game in games:\n",
    "        for moves, board in get_boards_for_moves(game['moves']):\n",
    "            if board.fen() == fen:\n",
    "                move_orders.add(tuple(moves))\n",
    "    return move_orders"
   ]
  },
  {
   "cell_type": "code",
   "execution_count": 25,
   "metadata": {},
   "outputs": [],
   "source": [
    "qgd_fen = get_board_for_moves(['d4', 'd5', 'c4', 'e6',]).fen()\n",
    "e4_e5_fen = get_board_for_moves(['e4', 'e5', ]).fen()\n",
    "d4_Nf6_fen = get_board_for_moves(['d4', 'Nf6', ]).fen()"
   ]
  },
  {
   "cell_type": "markdown",
   "metadata": {},
   "source": [
    "### Garry Kasparov Analysis"
   ]
  },
  {
   "cell_type": "code",
   "execution_count": 26,
   "metadata": {},
   "outputs": [
    {
     "name": "stderr",
     "output_type": "stream",
     "text": [
      "error during pgn parsing\n",
      "Traceback (most recent call last):\n",
      "  File \"/mnt/c/Users/Joe/Desktop/chess-analytics/venv/lib/python3.8/site-packages/chess/pgn.py\", line 1651, in read_game\n",
      "    move = visitor.parse_san(board_stack[-1], token)\n",
      "  File \"/mnt/c/Users/Joe/Desktop/chess-analytics/venv/lib/python3.8/site-packages/chess/pgn.py\", line 1032, in parse_san\n",
      "    return board.parse_san(san)\n",
      "  File \"/mnt/c/Users/Joe/Desktop/chess-analytics/venv/lib/python3.8/site-packages/chess/__init__.py\", line 2991, in parse_san\n",
      "    raise ValueError(f\"illegal san: {san!r} in {self.fen()}\")\n",
      "ValueError: illegal san: 'Bd3' in r1bqk1nr/pp3p1p/2np2pb/2p1p3/2B1P2P/2NP4/PPPN1PP1/R1BQK2R b KQkq - 1 9\n"
     ]
    },
    {
     "name": "stdout",
     "output_type": "stream",
     "text": [
      "0\n",
      "100\n"
     ]
    },
    {
     "name": "stderr",
     "output_type": "stream",
     "text": [
      "error during pgn parsing\n",
      "Traceback (most recent call last):\n",
      "  File \"/mnt/c/Users/Joe/Desktop/chess-analytics/venv/lib/python3.8/site-packages/chess/pgn.py\", line 1651, in read_game\n",
      "    move = visitor.parse_san(board_stack[-1], token)\n",
      "  File \"/mnt/c/Users/Joe/Desktop/chess-analytics/venv/lib/python3.8/site-packages/chess/pgn.py\", line 1032, in parse_san\n",
      "    return board.parse_san(san)\n",
      "  File \"/mnt/c/Users/Joe/Desktop/chess-analytics/venv/lib/python3.8/site-packages/chess/__init__.py\", line 2991, in parse_san\n",
      "    raise ValueError(f\"illegal san: {san!r} in {self.fen()}\")\n",
      "ValueError: illegal san: 'Nbd2' in r1bqk2r/1ppn1ppp/p1n1p3/2bpP3/5P2/2P2NP1/PP1P2BP/RNBQK2R w KQkq - 0 8\n",
      "error during pgn parsing\n",
      "Traceback (most recent call last):\n",
      "  File \"/mnt/c/Users/Joe/Desktop/chess-analytics/venv/lib/python3.8/site-packages/chess/pgn.py\", line 1651, in read_game\n",
      "    move = visitor.parse_san(board_stack[-1], token)\n",
      "  File \"/mnt/c/Users/Joe/Desktop/chess-analytics/venv/lib/python3.8/site-packages/chess/pgn.py\", line 1032, in parse_san\n",
      "    return board.parse_san(san)\n",
      "  File \"/mnt/c/Users/Joe/Desktop/chess-analytics/venv/lib/python3.8/site-packages/chess/__init__.py\", line 2991, in parse_san\n",
      "    raise ValueError(f\"illegal san: {san!r} in {self.fen()}\")\n",
      "ValueError: illegal san: 'Qe2' in rn3rk1/pb1qbppp/1p1ppn2/2p5/5PP1/3P1N1P/PPPNP1B1/R1BQ1RK1 w - - 1 10\n"
     ]
    },
    {
     "name": "stdout",
     "output_type": "stream",
     "text": [
      "200\n",
      "300\n"
     ]
    }
   ],
   "source": [
    "gk_games = list(games_generator_from_file('../../Garry_Kasparov.pgn', print_every=100, max_games=400))"
   ]
  },
  {
   "cell_type": "code",
   "execution_count": 27,
   "metadata": {},
   "outputs": [],
   "source": [
    "#gk_FEN_to_games = get_FEN_to_games(gk_games)"
   ]
  },
  {
   "cell_type": "code",
   "execution_count": 28,
   "metadata": {},
   "outputs": [],
   "source": [
    "#find_move_orders_reaching_fen(gk_games, qgd_fen)"
   ]
  },
  {
   "cell_type": "code",
   "execution_count": 29,
   "metadata": {},
   "outputs": [
    {
     "name": "stdout",
     "output_type": "stream",
     "text": [
      "make_game_trie took 0.02s\n"
     ]
    }
   ],
   "source": [
    "gk_trie = make_game_trie(gk_games)\n",
    "gk_top_lines = get_top_lines(gk_trie, max_depth=D)[:M]\n",
    "gk_top_lines_df = pd.DataFrame(line._asdict() for line in gk_top_lines)\n",
    "\n",
    "#accum_prob = sum(l.score for l in gk_top_lines)\n",
    "#print(f\"{M} lines make up {accum_prob*100:.1f}% of the lines starting from {[]}\")\n",
    "#for line in gk_top_lines:\n",
    "#    print(f\"\\t{np.round(line.score, 5)} {line.moves} {np.round(line.freqs, 5).tolist()} {line.counts}\")"
   ]
  },
  {
   "cell_type": "code",
   "execution_count": 30,
   "metadata": {},
   "outputs": [],
   "source": [
    "#top_positions = sorted([(len(gk_FEN_to_games[fen]), fen) for fen in gk_FEN_to_games], reverse=True)[:20]"
   ]
  },
  {
   "cell_type": "markdown",
   "metadata": {},
   "source": [
    "### Accelerated Dragon Analysis"
   ]
  },
  {
   "cell_type": "code",
   "execution_count": null,
   "metadata": {},
   "outputs": [],
   "source": [
    "from chess import Board\n",
    "import matplotlib.image as mpimg\n",
    "import numpy as np\n",
    "import matplotlib.pyplot as plt\n",
    "import networkx as nx\n",
    "import pydot\n",
    "from networkx.drawing.nx_pydot import graphviz_layout\n",
    "from collections import namedtuple, defaultdict\n",
    "plt.rcParams['axes.facecolor'] = 'white'"
   ]
  },
  {
   "cell_type": "code",
   "execution_count": 59,
   "metadata": {},
   "outputs": [
    {
     "name": "stdout",
     "output_type": "stream",
     "text": [
      "0\n",
      "make_game_trie took 0.00s\n"
     ]
    }
   ],
   "source": [
    "ad_games = list(games_generator_from_file('../../accel_drag_yugoslav.pgn'))\n",
    "ad_trie = make_game_trie(ad_games)\n",
    "ad_lines = get_top_lines(gk_trie, max_depth=50)"
   ]
  },
  {
   "cell_type": "code",
   "execution_count": 61,
   "metadata": {},
   "outputs": [],
   "source": [
    "ad_lines=ad_top_lines"
   ]
  },
  {
   "cell_type": "code",
   "execution_count": null,
   "metadata": {},
   "outputs": [],
   "source": [
    "def graph_from_lines(lines):\n",
    "    V, E = {}, []\n",
    "    \n",
    "    for depth, score, moves, freqs, counts in lines:\n",
    "        prev_fen = None\n",
    "        boards = [b for _, b in get_boards_for_moves(moves)]\n",
    "        for i, (move, board) in enumerate(zip(moves, boards)):\n",
    "            fen = board.fen()\n",
    "            if fen not in V:\n",
    "                V[fen] = len(V)\n",
    "            if i > 0:\n",
    "                E.append((V[prev_fen], V[fen]))\n",
    "            prev_fen = fen\n",
    "    return V, E\n",
    "    \n",
    "\n",
    "V, E = graph_from_lines(ad_lines)\n",
    "\n",
    "G = nx.Graph()\n",
    "for v in V:\n",
    "    svg2png(bytestring=Board(v)._repr_svg_(), write_to='temp.png')\n",
    "    G.add_node(V[v], image=mpimg.imread('temp.png'), size=1)\n",
    "for e1, e2 in E:\n",
    "    G.add_edge(e1, e2, weight=10)\n",
    "weights = [G[u][v]['weight'] for u,v in E]\n",
    "pos = graphviz_layout(G, prog='dot')\n",
    "#labels = {idx:f\"{l}\" for l, idx in V.items()}\n",
    "#color_map = ['white']*len(labels)"
   ]
  },
  {
   "cell_type": "code",
   "execution_count": null,
   "metadata": {},
   "outputs": [],
   "source": [
    "ax=plt.gca()\n",
    "fig=plt.gcf()\n",
    "fig.set_size_inches(12, 12)\n",
    "fig.set_dpi(50)\n",
    "nx.draw_networkx(G, pos, ax=ax, width=weights)\n",
    "\n",
    "#plt.xlim(-1.5,1.5)\n",
    "#plt.ylim(-1.5,1.5)\n",
    "\n",
    "trans=ax.transData.transform\n",
    "trans2=fig.transFigure.inverted().transform\n",
    "\n",
    "piesize=0.01 #this is the image size\n",
    "p2=piesize/2.0\n",
    "for n in G:\n",
    "    xx,yy=trans(pos[n]) # figure coordinates\n",
    "    xa,ya=trans2((xx,yy)) # axes coordinates\n",
    "    a = plt.axes([xa-p2,ya-p2, piesize, piesize])\n",
    "    a.imshow(G.nodes()[n]['image'])\n",
    "    a.set_aspect('equal')\n",
    "    a.axis('off')\n",
    "ax.axis('off')\n",
    "plt.show()"
   ]
  },
  {
   "cell_type": "code",
   "execution_count": null,
   "metadata": {},
   "outputs": [],
   "source": []
  }
 ],
 "metadata": {
  "colab": {
   "collapsed_sections": [],
   "name": "Untitled16.ipynb",
   "provenance": []
  },
  "kernelspec": {
   "display_name": "chess-analytics venv",
   "language": "python",
   "name": "venv"
  },
  "language_info": {
   "codemirror_mode": {
    "name": "ipython",
    "version": 3
   },
   "file_extension": ".py",
   "mimetype": "text/x-python",
   "name": "python",
   "nbconvert_exporter": "python",
   "pygments_lexer": "ipython3",
   "version": "3.8.0"
  }
 },
 "nbformat": 4,
 "nbformat_minor": 1
}
