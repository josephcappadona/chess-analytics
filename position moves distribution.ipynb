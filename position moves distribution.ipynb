{
 "cells": [
  {
   "cell_type": "markdown",
   "metadata": {},
   "source": [
    "# Installs & Imports"
   ]
  },
  {
   "cell_type": "code",
   "execution_count": 1,
   "metadata": {},
   "outputs": [
    {
     "name": "stdout",
     "output_type": "stream",
     "text": [
      "Python 3.8.0\r\n"
     ]
    }
   ],
   "source": [
    "!python --version # requires 3.8+"
   ]
  },
  {
   "cell_type": "code",
   "execution_count": 2,
   "metadata": {
    "colab": {
     "base_uri": "https://localhost:8080/"
    },
    "id": "faSONRmSFmMs",
    "outputId": "e0b18a53-4390-4b05-9bdb-1c54fa1ce448"
   },
   "outputs": [],
   "source": [
    "!pip install -q wget chess seaborn numpy pandas"
   ]
  },
  {
   "cell_type": "code",
   "execution_count": 3,
   "metadata": {
    "id": "vOPrDjRfFnZd"
   },
   "outputs": [],
   "source": [
    "import wget, chess, bz2, time\n",
    "from chess import pgn\n",
    "from pathlib import Path\n",
    "import seaborn as sns\n",
    "sns.set_theme(style=\"whitegrid\")\n",
    "import numpy as np\n",
    "import pandas as pd\n",
    "from collections import defaultdict, Counter, namedtuple\n",
    "from pprint import pprint\n",
    "import matplotlib.pyplot as plt"
   ]
  },
  {
   "cell_type": "markdown",
   "metadata": {},
   "source": [
    "# Classes & Functions"
   ]
  },
  {
   "cell_type": "markdown",
   "metadata": {},
   "source": [
    "## Data"
   ]
  },
  {
   "cell_type": "code",
   "execution_count": 4,
   "metadata": {},
   "outputs": [],
   "source": [
    "def download(url, filename, overwrite=False):\n",
    "    \n",
    "    if '.pgn' not in filename:\n",
    "        filename += '.pgn'\n",
    "        pgn_filename = filename\n",
    "    else:\n",
    "        if not filename.endswith('.pgn'):\n",
    "            idx = filename.find('.pgn') + 4\n",
    "            pgn_filename = filename[:idx]\n",
    "        else:\n",
    "            pgn_filename = filename\n",
    "            \n",
    "    filename = Path(filename)\n",
    "    if not filename.exists() or overwrite:\n",
    "        print(f'Downloading {str(filename)} from {url}')\n",
    "        filename = wget.download(str(url), str(filename))\n",
    "        if filename.endswith('.bz2'):\n",
    "            filename = bunzip(filename)\n",
    "    else:\n",
    "        print(f'{str(filename)} already exists. Pass in `overwrite=True` to overwrite it.')\n",
    "        \n",
    "    return pgn_filename\n",
    "\n",
    "def bunzip(filename):\n",
    "    zipped_filename = Path(filename)\n",
    "    unzipped_filename = zipped_filename.with_suffix('')\n",
    "    with open(unzipped_filename, 'wb') as f_out:\n",
    "        with bz2.open(zipped_filename, 'rb') as f_in:\n",
    "            f_out.write(f_in.read())\n",
    "            print(f\"Wrote {str(unzipped_filename)}\")\n",
    "            return unzipped_filename\n",
    "\n",
    "def get_avg_elo(game):\n",
    "    if not game.headers['WhiteElo'].endswith('?') \\\n",
    "                and not game.headers['BlackElo'].endswith('?'):\n",
    "        avg_elo = (int(game.headers['WhiteElo']) + int(game.headers['BlackElo'])) / 2\n",
    "        return avg_elo\n",
    "    else:\n",
    "        return None\n",
    "\n",
    "def get_moves(game):\n",
    "    return [move.san() for move in game.mainline()]\n",
    "\n",
    "def get_moves_generator(game):\n",
    "    for move in game.mainline():\n",
    "        yield move.san()\n",
    "\n",
    "def games_generator_from_file(filename,\n",
    "                              max_games=None,\n",
    "                              sample=1.0):\n",
    "    pgn_file = open(filename)\n",
    "    count = 0\n",
    "    game = pgn.read_game(pgn_file)\n",
    "    while game:\n",
    "        if np.random.random() < 0.1:\n",
    "            game_dict = dict(game.headers)\n",
    "            game_dict['moves'] = get_moves(game)\n",
    "            if date := game_dict.get('UTCDate', None):\n",
    "                year, month, day = date.split('.')\n",
    "                game_dict['year'] = int(year)\n",
    "                game_dict['month'] = int(month)\n",
    "                game_dict['day'] = int(day)\n",
    "            game_dict['avg_elo'] = get_avg_elo(game)\n",
    "            yield game_dict\n",
    "            count += 1\n",
    "\n",
    "            if max_games and count >= max_games:\n",
    "                break\n",
    "        \n",
    "        game = pgn.read_game(pgn_file)\n",
    "\n",
    "def filter_games(games,\n",
    "                 white=None,\n",
    "                 black=None,\n",
    "                 min_elo=0,\n",
    "                 max_elo=4000,\n",
    "                 require_elo=False,\n",
    "                 time_control=None):\n",
    "    filtered = []\n",
    "    for game in games:\n",
    "        valid = True\n",
    "        if white and game['White'] != white:\n",
    "            valid = False\n",
    "        elif black and game['Black'] != black:\n",
    "            valid = False\n",
    "        elif require_elo and not (min_elo < int(game['WhiteElo']) < max_elo):\n",
    "            valid = False\n",
    "        elif require_elo and not (min_elo < int(game['BlackElo']) < max_elo):\n",
    "            valid = False\n",
    "        elif time_control and game['TimeControl'] != time_control:\n",
    "            valid = False\n",
    "        if valid:\n",
    "            filtered.append(game)\n",
    "    return filtered\n",
    "\n",
    "def filter_trie(trie, **kwargs):\n",
    "    new_trie = {}\n",
    "    \n",
    "    for move, sub_trie in trie.items():\n",
    "        if move == None:\n",
    "            new_trie[None] = filter_games(sub_trie, **kwargs)\n",
    "        else:\n",
    "            new_trie[move] = filter_trie(sub_trie, **kwargs)\n",
    "    return new_trie"
   ]
  },
  {
   "cell_type": "markdown",
   "metadata": {},
   "source": [
    "## Utilities"
   ]
  },
  {
   "cell_type": "code",
   "execution_count": 5,
   "metadata": {},
   "outputs": [],
   "source": [
    "def sanitize_url(url):\n",
    "    return Path(url).name.translate(dict.fromkeys(map(ord, '?='), '_'))\n",
    "\n",
    "def round_nearest(x, n):\n",
    "    return np.round(np.array(x) / n).astype(int) * n\n",
    "\n",
    "def time_profile(fn):\n",
    "    def new_fn(*args, **kwargs):\n",
    "        start_t = time.time()\n",
    "        ret = fn(*args, **kwargs)\n",
    "        end_t = time.time()\n",
    "        print(f'{fn.__name__} took {end_t - start_t:.2f}s')\n",
    "        return ret\n",
    "    return new_fn"
   ]
  },
  {
   "cell_type": "markdown",
   "metadata": {},
   "source": [
    "## Trie"
   ]
  },
  {
   "cell_type": "code",
   "execution_count": 6,
   "metadata": {},
   "outputs": [],
   "source": [
    "@time_profile\n",
    "def make_game_trie(games, root=None):\n",
    "    root = root or dict()\n",
    "    for game in games:\n",
    "        current_dict = root\n",
    "        for move in game['moves']:\n",
    "            current_dict = current_dict.setdefault(move, {})\n",
    "        if None not in current_dict:\n",
    "            current_dict[None] = []\n",
    "        current_dict[None].append(game)\n",
    "    return root\n",
    "\n",
    "def in_trie(trie, moves):\n",
    "    current_dict = trie\n",
    "    for move in moves:\n",
    "        if move not in current_dict:\n",
    "            return False\n",
    "        current_dict = current_dict[move]\n",
    "    return True\n",
    "\n",
    "def get_sub_trie(trie, moves):\n",
    "    current_dict = trie\n",
    "    for move in moves:\n",
    "        if move not in current_dict:\n",
    "            return None\n",
    "        current_dict = current_dict[move]\n",
    "    return current_dict\n",
    "\n",
    "def count_trie(trie):\n",
    "    count = 0\n",
    "    for move, sub_trie in trie.items():\n",
    "        if not isinstance(sub_trie, dict):\n",
    "            leaves = sub_trie  # leaves are games\n",
    "            count += len(leaves)\n",
    "        else:\n",
    "            count += count_trie(sub_trie)\n",
    "    return count\n",
    "\n",
    "def get_leaves(trie):\n",
    "    leaves = []\n",
    "    if isinstance(trie, list):\n",
    "        for game in trie:\n",
    "            yield game\n",
    "    elif isinstance(trie, dict):\n",
    "        for move, sub_trie in trie.items():\n",
    "            for game in get_leaves(sub_trie):\n",
    "                yield game"
   ]
  },
  {
   "cell_type": "markdown",
   "metadata": {},
   "source": [
    "## Statistics"
   ]
  },
  {
   "cell_type": "code",
   "execution_count": 7,
   "metadata": {},
   "outputs": [],
   "source": [
    "def get_move_to_games_mapping(trie, elo_min=0, elo_max=float('inf')):\n",
    "    move_to_games = {}\n",
    "    \n",
    "    for move, sub_trie in trie.items():\n",
    "        games = list(get_leaves(sub_trie))\n",
    "        move_to_games[move] = games\n",
    "        \n",
    "    return move_to_games\n",
    "\n",
    "def build_move_df(trie, **kwargs):\n",
    "    data = []\n",
    "    move_to_games = get_move_to_games_mapping(trie, *kwargs)\n",
    "    for move, games in move_to_games.items():\n",
    "        for game in games:\n",
    "            game = game.copy()\n",
    "            game['move'] = move\n",
    "            data.append(game)\n",
    "\n",
    "    move_df = pd.DataFrame(data)\n",
    "    return move_df\n",
    "\n",
    "def get_elo_to_move_mapping(trie, bin_width=200):\n",
    "    elo_to_move = defaultdict(list)\n",
    "\n",
    "    for move, sub_trie in trie.items():\n",
    "        for game in get_leaves(sub_trie):\n",
    "            elo = game['avg_elo']\n",
    "            rounded_elo = round_nearest(elo, bin_width)\n",
    "            elo_to_move[rounded_elo].append(move)\n",
    "            \n",
    "    return elo_to_move\n",
    "\n",
    "def get_elo_move_count_df(move_df, bin_width=400):\n",
    "    move_df = move_df.copy()\n",
    "    move_df['avg_elo'] = round_nearest(move_df['avg_elo'], bin_width)\n",
    "    group_df = move_df.groupby(['avg_elo', 'move']).size().reset_index().rename(columns={0: 'count'})\n",
    "    return pd.crosstab(group_df.avg_elo, group_df.move, group_df['count'], aggfunc=sum).fillna(0)\n",
    "\n",
    "def normalize(d, target=1.0):\n",
    "    raw = sum(d.values())\n",
    "    factor = target / raw\n",
    "    return {key:value*factor for key,value in d.items()}\n",
    "\n",
    "\n",
    "# Below = outdated(?)"
   ]
  },
  {
   "cell_type": "markdown",
   "metadata": {},
   "source": [
    "## Visualization"
   ]
  },
  {
   "cell_type": "code",
   "execution_count": 171,
   "metadata": {},
   "outputs": [],
   "source": [
    "import matplotlib.ticker as ticker\n",
    "\n",
    "def plot_move_count_by_elo(move_df, bin_width=100, normalize_=False, figsize=(8, 5)):\n",
    "    count_df = get_elo_move_count_df(move_df)\n",
    "    \n",
    "    stat = 'count'\n",
    "    if normalize_:\n",
    "        stat = 'frequency'\n",
    "        for elo in count_df.columns:\n",
    "            sum_ = sum(count_df[elo].values)\n",
    "            count_df[elo] = count_df[elo] / sum_\n",
    "        count_df = count_df.rename(columns={'count': 'frequency'})\n",
    "        \n",
    "    count_df['move'] = count_df.index\n",
    "    melted_df = pd.melt(count_df, id_vars=\"move\", var_name=\"elo\", value_name=stat)\n",
    "    g = sns.catplot(x='elo',\n",
    "                    y=stat,\n",
    "                    hue='move',\n",
    "                    kind='bar',\n",
    "                    legend=True,\n",
    "                    data=melted_df)\n",
    "    return g\n",
    "    \n",
    "def plot_move_distribution_by_elo(move_df, bin_width=100, figsize=(8, 5)):\n",
    "    fig, ax = plt.subplots(figsize=figsize)\n",
    "    \n",
    "    g = sns.histplot(ax=ax,\n",
    "                     x='avg_elo',\n",
    "                     y=None,\n",
    "                     hue='move',\n",
    "                     binwidth=bin_width,\n",
    "                     stat='count',\n",
    "                     multiple='fill',\n",
    "                     legend=True,\n",
    "                     data=move_df)\n",
    "    return fig\n",
    "    \n",
    "def plot_move_distribution_by_year(move_df, bin_width=1, figsize=(8, 5)):\n",
    "    fig, ax = plt.subplots(figsize=figsize)\n",
    "    \n",
    "    move_df = move_df.copy()\n",
    "    move_df['year_month'] = round_nearest(move_df['year'].values + (move_df['month'].values / 12).astype(int), bin_width)\n",
    "    g = sns.histplot(ax=ax,\n",
    "                     x='year_month',\n",
    "                     y=None,\n",
    "                     hue='move',\n",
    "                     binwidth=bin_width,\n",
    "                     stat='count',\n",
    "                     multiple='fill',\n",
    "                     legend=True,\n",
    "                     data=move_df)\n",
    "    g.get_xaxis().set_major_formatter(ticker.FuncFormatter(lambda x, pos: f'{x:g}'))\n",
    "    return fig"
   ]
  },
  {
   "cell_type": "markdown",
   "metadata": {},
   "source": [
    "# Run"
   ]
  },
  {
   "cell_type": "code",
   "execution_count": 219,
   "metadata": {},
   "outputs": [
    {
     "name": "stdout",
     "output_type": "stream",
     "text": [
      "chess365_d35.pgn\n"
     ]
    }
   ],
   "source": [
    "#URL = 'https://lichess.org/games/export/seaghost27?max=100'\n",
    "#URL = 'https://lichess.org/games/export/DrNykterstein?max=7000'\n",
    "#URL = 'https://database.lichess.org/standard/lichess_db_standard_rated_2015-02.pgn.bz2'\n",
    "URL = None\n",
    "FILENAME = 'chess365_d35.pgn'\n",
    "\n",
    "if URL:    \n",
    "    filename = sanitize_url(URL)\n",
    "    pgn_filename = download(URL, filename)\n",
    "    \n",
    "else:\n",
    "    pgn_filename = FILENAME\n",
    "    \n",
    "print(pgn_filename)"
   ]
  },
  {
   "cell_type": "code",
   "execution_count": 220,
   "metadata": {},
   "outputs": [
    {
     "ename": "UnicodeDecodeError",
     "evalue": "'utf-8' codec can't decode byte 0xdc in position 1908: invalid continuation byte",
     "output_type": "error",
     "traceback": [
      "\u001b[0;31m---------------------------------------------------------------------------\u001b[0m",
      "\u001b[0;31mUnicodeDecodeError\u001b[0m                        Traceback (most recent call last)",
      "\u001b[0;32m<ipython-input-220-e4cf9961a016>\u001b[0m in \u001b[0;36m<module>\u001b[0;34m\u001b[0m\n\u001b[1;32m      1\u001b[0m \u001b[0mgames_gen\u001b[0m \u001b[0;34m=\u001b[0m \u001b[0mgames_generator_from_file\u001b[0m\u001b[0;34m(\u001b[0m\u001b[0mpgn_filename\u001b[0m\u001b[0;34m)\u001b[0m\u001b[0;34m\u001b[0m\u001b[0;34m\u001b[0m\u001b[0m\n\u001b[0;32m----> 2\u001b[0;31m \u001b[0mtrie\u001b[0m \u001b[0;34m=\u001b[0m \u001b[0mmake_game_trie\u001b[0m\u001b[0;34m(\u001b[0m\u001b[0mgames_gen\u001b[0m\u001b[0;34m)\u001b[0m\u001b[0;34m\u001b[0m\u001b[0;34m\u001b[0m\u001b[0m\n\u001b[0m",
      "\u001b[0;32m<ipython-input-5-875e2fbc387e>\u001b[0m in \u001b[0;36mnew_fn\u001b[0;34m(*args, **kwargs)\u001b[0m\n\u001b[1;32m      8\u001b[0m     \u001b[0;32mdef\u001b[0m \u001b[0mnew_fn\u001b[0m\u001b[0;34m(\u001b[0m\u001b[0;34m*\u001b[0m\u001b[0margs\u001b[0m\u001b[0;34m,\u001b[0m \u001b[0;34m**\u001b[0m\u001b[0mkwargs\u001b[0m\u001b[0;34m)\u001b[0m\u001b[0;34m:\u001b[0m\u001b[0;34m\u001b[0m\u001b[0;34m\u001b[0m\u001b[0m\n\u001b[1;32m      9\u001b[0m         \u001b[0mstart_t\u001b[0m \u001b[0;34m=\u001b[0m \u001b[0mtime\u001b[0m\u001b[0;34m.\u001b[0m\u001b[0mtime\u001b[0m\u001b[0;34m(\u001b[0m\u001b[0;34m)\u001b[0m\u001b[0;34m\u001b[0m\u001b[0;34m\u001b[0m\u001b[0m\n\u001b[0;32m---> 10\u001b[0;31m         \u001b[0mret\u001b[0m \u001b[0;34m=\u001b[0m \u001b[0mfn\u001b[0m\u001b[0;34m(\u001b[0m\u001b[0;34m*\u001b[0m\u001b[0margs\u001b[0m\u001b[0;34m,\u001b[0m \u001b[0;34m**\u001b[0m\u001b[0mkwargs\u001b[0m\u001b[0;34m)\u001b[0m\u001b[0;34m\u001b[0m\u001b[0;34m\u001b[0m\u001b[0m\n\u001b[0m\u001b[1;32m     11\u001b[0m         \u001b[0mend_t\u001b[0m \u001b[0;34m=\u001b[0m \u001b[0mtime\u001b[0m\u001b[0;34m.\u001b[0m\u001b[0mtime\u001b[0m\u001b[0;34m(\u001b[0m\u001b[0;34m)\u001b[0m\u001b[0;34m\u001b[0m\u001b[0;34m\u001b[0m\u001b[0m\n\u001b[1;32m     12\u001b[0m         \u001b[0mprint\u001b[0m\u001b[0;34m(\u001b[0m\u001b[0;34mf'{fn.__name__} took {end_t - start_t:.2f}s'\u001b[0m\u001b[0;34m)\u001b[0m\u001b[0;34m\u001b[0m\u001b[0;34m\u001b[0m\u001b[0m\n",
      "\u001b[0;32m<ipython-input-6-40f947f83bae>\u001b[0m in \u001b[0;36mmake_game_trie\u001b[0;34m(games, root)\u001b[0m\n\u001b[1;32m      2\u001b[0m \u001b[0;32mdef\u001b[0m \u001b[0mmake_game_trie\u001b[0m\u001b[0;34m(\u001b[0m\u001b[0mgames\u001b[0m\u001b[0;34m,\u001b[0m \u001b[0mroot\u001b[0m\u001b[0;34m=\u001b[0m\u001b[0;32mNone\u001b[0m\u001b[0;34m)\u001b[0m\u001b[0;34m:\u001b[0m\u001b[0;34m\u001b[0m\u001b[0;34m\u001b[0m\u001b[0m\n\u001b[1;32m      3\u001b[0m     \u001b[0mroot\u001b[0m \u001b[0;34m=\u001b[0m \u001b[0mroot\u001b[0m \u001b[0;32mor\u001b[0m \u001b[0mdict\u001b[0m\u001b[0;34m(\u001b[0m\u001b[0;34m)\u001b[0m\u001b[0;34m\u001b[0m\u001b[0;34m\u001b[0m\u001b[0m\n\u001b[0;32m----> 4\u001b[0;31m     \u001b[0;32mfor\u001b[0m \u001b[0mgame\u001b[0m \u001b[0;32min\u001b[0m \u001b[0mgames\u001b[0m\u001b[0;34m:\u001b[0m\u001b[0;34m\u001b[0m\u001b[0;34m\u001b[0m\u001b[0m\n\u001b[0m\u001b[1;32m      5\u001b[0m         \u001b[0mcurrent_dict\u001b[0m \u001b[0;34m=\u001b[0m \u001b[0mroot\u001b[0m\u001b[0;34m\u001b[0m\u001b[0;34m\u001b[0m\u001b[0m\n\u001b[1;32m      6\u001b[0m         \u001b[0;32mfor\u001b[0m \u001b[0mmove\u001b[0m \u001b[0;32min\u001b[0m \u001b[0mgame\u001b[0m\u001b[0;34m[\u001b[0m\u001b[0;34m'moves'\u001b[0m\u001b[0;34m]\u001b[0m\u001b[0;34m:\u001b[0m\u001b[0;34m\u001b[0m\u001b[0;34m\u001b[0m\u001b[0m\n",
      "\u001b[0;32m<ipython-input-4-6d4b9d2f9fdd>\u001b[0m in \u001b[0;36mgames_generator_from_file\u001b[0;34m(filename, max_games, sample)\u001b[0m\n\u001b[1;32m     68\u001b[0m                 \u001b[0;32mbreak\u001b[0m\u001b[0;34m\u001b[0m\u001b[0;34m\u001b[0m\u001b[0m\n\u001b[1;32m     69\u001b[0m \u001b[0;34m\u001b[0m\u001b[0m\n\u001b[0;32m---> 70\u001b[0;31m         \u001b[0mgame\u001b[0m \u001b[0;34m=\u001b[0m \u001b[0mpgn\u001b[0m\u001b[0;34m.\u001b[0m\u001b[0mread_game\u001b[0m\u001b[0;34m(\u001b[0m\u001b[0mpgn_file\u001b[0m\u001b[0;34m)\u001b[0m\u001b[0;34m\u001b[0m\u001b[0;34m\u001b[0m\u001b[0m\n\u001b[0m",
      "\u001b[0;32m~/Desktop/chess-analytics/venv/lib/python3.8/site-packages/chess/pgn.py\u001b[0m in \u001b[0;36mread_game\u001b[0;34m(handle, Visitor)\u001b[0m\n\u001b[1;32m   1514\u001b[0m                 \u001b[0;32mbreak\u001b[0m\u001b[0;34m\u001b[0m\u001b[0;34m\u001b[0m\u001b[0m\n\u001b[1;32m   1515\u001b[0m \u001b[0;34m\u001b[0m\u001b[0m\n\u001b[0;32m-> 1516\u001b[0;31m         \u001b[0mline\u001b[0m \u001b[0;34m=\u001b[0m \u001b[0mhandle\u001b[0m\u001b[0;34m.\u001b[0m\u001b[0mreadline\u001b[0m\u001b[0;34m(\u001b[0m\u001b[0;34m)\u001b[0m\u001b[0;34m\u001b[0m\u001b[0;34m\u001b[0m\u001b[0m\n\u001b[0m\u001b[1;32m   1517\u001b[0m \u001b[0;34m\u001b[0m\u001b[0m\n\u001b[1;32m   1518\u001b[0m     \u001b[0;32mif\u001b[0m \u001b[0;32mnot\u001b[0m \u001b[0mfound_game\u001b[0m\u001b[0;34m:\u001b[0m\u001b[0;34m\u001b[0m\u001b[0;34m\u001b[0m\u001b[0m\n",
      "\u001b[0;32m/Library/Frameworks/Python.framework/Versions/3.8/lib/python3.8/codecs.py\u001b[0m in \u001b[0;36mdecode\u001b[0;34m(self, input, final)\u001b[0m\n\u001b[1;32m    320\u001b[0m         \u001b[0;31m# decode input (taking the buffer into account)\u001b[0m\u001b[0;34m\u001b[0m\u001b[0;34m\u001b[0m\u001b[0;34m\u001b[0m\u001b[0m\n\u001b[1;32m    321\u001b[0m         \u001b[0mdata\u001b[0m \u001b[0;34m=\u001b[0m \u001b[0mself\u001b[0m\u001b[0;34m.\u001b[0m\u001b[0mbuffer\u001b[0m \u001b[0;34m+\u001b[0m \u001b[0minput\u001b[0m\u001b[0;34m\u001b[0m\u001b[0;34m\u001b[0m\u001b[0m\n\u001b[0;32m--> 322\u001b[0;31m         \u001b[0;34m(\u001b[0m\u001b[0mresult\u001b[0m\u001b[0;34m,\u001b[0m \u001b[0mconsumed\u001b[0m\u001b[0;34m)\u001b[0m \u001b[0;34m=\u001b[0m \u001b[0mself\u001b[0m\u001b[0;34m.\u001b[0m\u001b[0m_buffer_decode\u001b[0m\u001b[0;34m(\u001b[0m\u001b[0mdata\u001b[0m\u001b[0;34m,\u001b[0m \u001b[0mself\u001b[0m\u001b[0;34m.\u001b[0m\u001b[0merrors\u001b[0m\u001b[0;34m,\u001b[0m \u001b[0mfinal\u001b[0m\u001b[0;34m)\u001b[0m\u001b[0;34m\u001b[0m\u001b[0;34m\u001b[0m\u001b[0m\n\u001b[0m\u001b[1;32m    323\u001b[0m         \u001b[0;31m# keep undecoded input until the next call\u001b[0m\u001b[0;34m\u001b[0m\u001b[0;34m\u001b[0m\u001b[0;34m\u001b[0m\u001b[0m\n\u001b[1;32m    324\u001b[0m         \u001b[0mself\u001b[0m\u001b[0;34m.\u001b[0m\u001b[0mbuffer\u001b[0m \u001b[0;34m=\u001b[0m \u001b[0mdata\u001b[0m\u001b[0;34m[\u001b[0m\u001b[0mconsumed\u001b[0m\u001b[0;34m:\u001b[0m\u001b[0;34m]\u001b[0m\u001b[0;34m\u001b[0m\u001b[0;34m\u001b[0m\u001b[0m\n",
      "\u001b[0;31mUnicodeDecodeError\u001b[0m: 'utf-8' codec can't decode byte 0xdc in position 1908: invalid continuation byte"
     ]
    }
   ],
   "source": [
    "games_gen = games_generator_from_file(pgn_filename)\n",
    "trie = make_game_trie(games_gen)"
   ]
  },
  {
   "cell_type": "code",
   "execution_count": 32,
   "metadata": {},
   "outputs": [
    {
     "name": "stdout",
     "output_type": "stream",
     "text": [
      "1000\n"
     ]
    }
   ],
   "source": [
    "print(count_trie(trie))"
   ]
  },
  {
   "cell_type": "code",
   "execution_count": 216,
   "metadata": {},
   "outputs": [],
   "source": [
    "#LINE = ['e4', 'c5', 'Nf3', 'Nc6', 'd4', 'cxd4', 'Nxd4', ]  # open sicilian\n",
    "LINE = ['d4', 'd5', 'c4', 'e6', 'Nc3', 'Nf6']  # \n",
    "\n",
    "line_trie = get_sub_trie(trie, LINE)\n",
    "move_df = build_move_df(line_trie)"
   ]
  },
  {
   "cell_type": "code",
   "execution_count": 217,
   "metadata": {},
   "outputs": [
    {
     "data": {
      "text/html": [
       "<div>\n",
       "<style scoped>\n",
       "    .dataframe tbody tr th:only-of-type {\n",
       "        vertical-align: middle;\n",
       "    }\n",
       "\n",
       "    .dataframe tbody tr th {\n",
       "        vertical-align: top;\n",
       "    }\n",
       "\n",
       "    .dataframe thead th {\n",
       "        text-align: right;\n",
       "    }\n",
       "</style>\n",
       "<table border=\"1\" class=\"dataframe\">\n",
       "  <thead>\n",
       "    <tr style=\"text-align: right;\">\n",
       "      <th></th>\n",
       "      <th>Event</th>\n",
       "      <th>Site</th>\n",
       "      <th>Date</th>\n",
       "      <th>Round</th>\n",
       "      <th>White</th>\n",
       "      <th>Black</th>\n",
       "      <th>Result</th>\n",
       "      <th>BlackElo</th>\n",
       "      <th>BlackRatingDiff</th>\n",
       "      <th>ECO</th>\n",
       "      <th>...</th>\n",
       "      <th>UTCDate</th>\n",
       "      <th>UTCTime</th>\n",
       "      <th>WhiteElo</th>\n",
       "      <th>WhiteRatingDiff</th>\n",
       "      <th>moves</th>\n",
       "      <th>year</th>\n",
       "      <th>month</th>\n",
       "      <th>day</th>\n",
       "      <th>avg_elo</th>\n",
       "      <th>move</th>\n",
       "    </tr>\n",
       "  </thead>\n",
       "  <tbody>\n",
       "    <tr>\n",
       "      <th>0</th>\n",
       "      <td>Rated Blitz game</td>\n",
       "      <td>https://lichess.org/qBwMHOb3</td>\n",
       "      <td>????.??.??</td>\n",
       "      <td>?</td>\n",
       "      <td>GOVLAMIX3</td>\n",
       "      <td>mime45</td>\n",
       "      <td>1-0</td>\n",
       "      <td>1766</td>\n",
       "      <td>-12</td>\n",
       "      <td>D37</td>\n",
       "      <td>...</td>\n",
       "      <td>2015.01.31</td>\n",
       "      <td>23:35:08</td>\n",
       "      <td>1709</td>\n",
       "      <td>+13</td>\n",
       "      <td>[d4, d5, c4, e6, Nc3, Nf6, Nf3, Bd6, e3, c6, a...</td>\n",
       "      <td>2015</td>\n",
       "      <td>1</td>\n",
       "      <td>31</td>\n",
       "      <td>1737.5</td>\n",
       "      <td>Nf3</td>\n",
       "    </tr>\n",
       "    <tr>\n",
       "      <th>1</th>\n",
       "      <td>Rated Blitz tournament https://lichess.org/tou...</td>\n",
       "      <td>https://lichess.org/bUhvUYci</td>\n",
       "      <td>????.??.??</td>\n",
       "      <td>?</td>\n",
       "      <td>raiken2</td>\n",
       "      <td>stevehayman</td>\n",
       "      <td>1-0</td>\n",
       "      <td>1243</td>\n",
       "      <td>-1</td>\n",
       "      <td>D55</td>\n",
       "      <td>...</td>\n",
       "      <td>2015.01.31</td>\n",
       "      <td>23:36:28</td>\n",
       "      <td>1981</td>\n",
       "      <td>+0</td>\n",
       "      <td>[d4, d5, c4, e6, Nc3, Nf6, Nf3, Be7, Bg5, O-O,...</td>\n",
       "      <td>2015</td>\n",
       "      <td>1</td>\n",
       "      <td>31</td>\n",
       "      <td>1612.0</td>\n",
       "      <td>Nf3</td>\n",
       "    </tr>\n",
       "    <tr>\n",
       "      <th>2</th>\n",
       "      <td>Rated Blitz tournament https://lichess.org/tou...</td>\n",
       "      <td>https://lichess.org/afArY5hh</td>\n",
       "      <td>????.??.??</td>\n",
       "      <td>?</td>\n",
       "      <td>raiken2</td>\n",
       "      <td>boniclay</td>\n",
       "      <td>0-1</td>\n",
       "      <td>1628</td>\n",
       "      <td>+22</td>\n",
       "      <td>D43</td>\n",
       "      <td>...</td>\n",
       "      <td>2015.02.01</td>\n",
       "      <td>00:11:28</td>\n",
       "      <td>1962</td>\n",
       "      <td>-22</td>\n",
       "      <td>[d4, d5, c4, e6, Nc3, Nf6, Nf3, c6, Bg5, Nbd7,...</td>\n",
       "      <td>2015</td>\n",
       "      <td>2</td>\n",
       "      <td>1</td>\n",
       "      <td>1795.0</td>\n",
       "      <td>Nf3</td>\n",
       "    </tr>\n",
       "    <tr>\n",
       "      <th>3</th>\n",
       "      <td>Rated Blitz game</td>\n",
       "      <td>https://lichess.org/NrnPYGas</td>\n",
       "      <td>????.??.??</td>\n",
       "      <td>?</td>\n",
       "      <td>GustavoTorres</td>\n",
       "      <td>branko</td>\n",
       "      <td>0-1</td>\n",
       "      <td>1935</td>\n",
       "      <td>+12</td>\n",
       "      <td>D53</td>\n",
       "      <td>...</td>\n",
       "      <td>2015.02.01</td>\n",
       "      <td>05:12:42</td>\n",
       "      <td>1959</td>\n",
       "      <td>-11</td>\n",
       "      <td>[d4, d5, c4, e6, Nc3, Nf6, Bg5, Be7, Bxf6, Bxf...</td>\n",
       "      <td>2015</td>\n",
       "      <td>2</td>\n",
       "      <td>1</td>\n",
       "      <td>1947.0</td>\n",
       "      <td>Bg5</td>\n",
       "    </tr>\n",
       "  </tbody>\n",
       "</table>\n",
       "<p>4 rows × 23 columns</p>\n",
       "</div>"
      ],
      "text/plain": [
       "                                               Event  \\\n",
       "0                                   Rated Blitz game   \n",
       "1  Rated Blitz tournament https://lichess.org/tou...   \n",
       "2  Rated Blitz tournament https://lichess.org/tou...   \n",
       "3                                   Rated Blitz game   \n",
       "\n",
       "                           Site        Date Round          White        Black  \\\n",
       "0  https://lichess.org/qBwMHOb3  ????.??.??     ?      GOVLAMIX3       mime45   \n",
       "1  https://lichess.org/bUhvUYci  ????.??.??     ?        raiken2  stevehayman   \n",
       "2  https://lichess.org/afArY5hh  ????.??.??     ?        raiken2     boniclay   \n",
       "3  https://lichess.org/NrnPYGas  ????.??.??     ?  GustavoTorres       branko   \n",
       "\n",
       "  Result BlackElo BlackRatingDiff  ECO  ...     UTCDate   UTCTime WhiteElo  \\\n",
       "0    1-0     1766             -12  D37  ...  2015.01.31  23:35:08     1709   \n",
       "1    1-0     1243              -1  D55  ...  2015.01.31  23:36:28     1981   \n",
       "2    0-1     1628             +22  D43  ...  2015.02.01  00:11:28     1962   \n",
       "3    0-1     1935             +12  D53  ...  2015.02.01  05:12:42     1959   \n",
       "\n",
       "  WhiteRatingDiff                                              moves  year  \\\n",
       "0             +13  [d4, d5, c4, e6, Nc3, Nf6, Nf3, Bd6, e3, c6, a...  2015   \n",
       "1              +0  [d4, d5, c4, e6, Nc3, Nf6, Nf3, Be7, Bg5, O-O,...  2015   \n",
       "2             -22  [d4, d5, c4, e6, Nc3, Nf6, Nf3, c6, Bg5, Nbd7,...  2015   \n",
       "3             -11  [d4, d5, c4, e6, Nc3, Nf6, Bg5, Be7, Bxf6, Bxf...  2015   \n",
       "\n",
       "  month day  avg_elo  move  \n",
       "0     1  31   1737.5   Nf3  \n",
       "1     1  31   1612.0   Nf3  \n",
       "2     2   1   1795.0   Nf3  \n",
       "3     2   1   1947.0   Bg5  \n",
       "\n",
       "[4 rows x 23 columns]"
      ]
     },
     "execution_count": 217,
     "metadata": {},
     "output_type": "execute_result"
    }
   ],
   "source": [
    "move_df.head()"
   ]
  },
  {
   "cell_type": "markdown",
   "metadata": {},
   "source": [
    "## Move counts at different ELOs"
   ]
  },
  {
   "cell_type": "code",
   "execution_count": 105,
   "metadata": {},
   "outputs": [
    {
     "ename": "StopIteration",
     "evalue": "",
     "output_type": "error",
     "traceback": [
      "\u001b[0;31m---------------------------------------------------------------------------\u001b[0m",
      "\u001b[0;31mStopIteration\u001b[0m                             Traceback (most recent call last)",
      "\u001b[0;32m<ipython-input-105-0dfc6ca10bc4>\u001b[0m in \u001b[0;36m<module>\u001b[0;34m\u001b[0m\n\u001b[0;32m----> 1\u001b[0;31m \u001b[0mnext\u001b[0m\u001b[0;34m(\u001b[0m\u001b[0mget_leaves\u001b[0m\u001b[0;34m(\u001b[0m\u001b[0mfilter_trie\u001b[0m\u001b[0;34m(\u001b[0m\u001b[0mline_trie\u001b[0m\u001b[0;34m,\u001b[0m \u001b[0mwhite\u001b[0m\u001b[0;34m=\u001b[0m\u001b[0;34m'DrNykterstein'\u001b[0m\u001b[0;34m)\u001b[0m\u001b[0;34m)\u001b[0m\u001b[0;34m)\u001b[0m\u001b[0;34m\u001b[0m\u001b[0;34m\u001b[0m\u001b[0m\n\u001b[0m",
      "\u001b[0;31mStopIteration\u001b[0m: "
     ]
    }
   ],
   "source": [
    "#next(get_leaves(filter_trie(line_trie, white='DrNykterstein')))"
   ]
  },
  {
   "cell_type": "markdown",
   "metadata": {},
   "source": [
    "### Top Move Distributions Across ELO and Year"
   ]
  },
  {
   "cell_type": "code",
   "execution_count": null,
   "metadata": {},
   "outputs": [],
   "source": [
    "N = 5\n",
    "ELO_BIN_WIDTH = 400"
   ]
  },
  {
   "cell_type": "code",
   "execution_count": 71,
   "metadata": {},
   "outputs": [
    {
     "name": "stdout",
     "output_type": "stream",
     "text": [
      "['e4', 'd4', 'Nf3', 'g3', 'e3']\n"
     ]
    }
   ],
   "source": [
    "top_moves = move_df['move'].value_counts().iloc[:N].index.values.tolist()\n",
    "print(top_moves)\n",
    "\n",
    "top_moves_df = move_df[move_df['move'].isin(top_moves)]"
   ]
  },
  {
   "cell_type": "code",
   "execution_count": 176,
   "metadata": {},
   "outputs": [
    {
     "data": {
      "image/png": "[encoded data removed]",
      "text/plain": [
       "<Figure size 424.225x360 with 1 Axes>"
      ]
     },
     "metadata": {},
     "output_type": "display_data"
    }
   ],
   "source": [
    "move_count_plot = plot_move_count_by_elo(top_moves_df,\n",
    "                                         bin_width=ELO_BIN_WIDTH)"
   ]
  },
  {
   "cell_type": "code",
   "execution_count": 18,
   "metadata": {},
   "outputs": [
    {
     "data": {
      "image/png": "[encoded data removed]",
      "text/plain": [
       "<Figure size 576x360 with 1 Axes>"
      ]
     },
     "metadata": {},
     "output_type": "display_data"
    }
   ],
   "source": [
    "distr_by_elo = plot_move_distribution_by_elo(top_moves_df, 100)"
   ]
  },
  {
   "cell_type": "code",
   "execution_count": 175,
   "metadata": {},
   "outputs": [],
   "source": [
    "if top_moves_df['year'].nunique() > 1:\n",
    "    distr_by_year = plot_move_distribution_by_year(top_moves_df, 0.75)"
   ]
  },
  {
   "cell_type": "code",
   "execution_count": 213,
   "metadata": {},
   "outputs": [],
   "source": [
    "from collections import namedtuple\n",
    "Line = namedtuple('Line', ['depth', 'score', 'moves', 'freqs'])\n",
    "\n",
    "def get_top_lines(trie, max_depth=6):\n",
    "    move_df = build_move_df(trie)\n",
    "    counts = move_df['move'].value_counts()\n",
    "    frequencies = counts / len(move_df)\n",
    "    \n",
    "    lines = []\n",
    "    for move, sub_trie in trie.items():\n",
    "        \n",
    "        if max_depth == 0 and move is not None:\n",
    "            score = freq = frequencies[move]\n",
    "            lines.append(Line(1, score, [move], [freq]))\n",
    "        else:\n",
    "            if isinstance(sub_trie, dict):\n",
    "                top_sub_lines = get_top_lines(sub_trie, max_depth=max_depth-1)\n",
    "                for _, score, sub_line, freqs in top_sub_lines:\n",
    "                    freq = frequencies[move]\n",
    "                    score = score * freq\n",
    "                    lines.append(Line(len(sub_line)+1, score, [move] + sub_line, [freq] + freqs))\n",
    "            elif move is None and isinstance(sub_trie, list):\n",
    "                lines.append(Line(0, 1, [], []))\n",
    "                \n",
    "    return sorted(lines, reverse=True)\n",
    "    "
   ]
  },
  {
   "cell_type": "code",
   "execution_count": 214,
   "metadata": {},
   "outputs": [
    {
     "data": {
      "text/plain": [
       "[Line(depth=4, score=0.06399999999999999, moves=['e4', 'e5', 'Nf3', 'Nc6'], freqs=[0.591, 0.3333333333333333, 0.5786802030456852, 0.5614035087719298]),\n",
       " Line(depth=4, score=0.029999999999999995, moves=['e4', 'd5', 'exd5', 'Qxd5'], freqs=[0.591, 0.07952622673434856, 0.7446808510638298, 0.8571428571428571]),\n",
       " Line(depth=4, score=0.026999999999999996, moves=['e4', 'c5', 'Nf3', 'd6'], freqs=[0.591, 0.23519458544839256, 0.45323741007194246, 0.42857142857142855]),\n",
       " Line(depth=4, score=0.023, moves=['e4', 'c5', 'Nf3', 'Nc6'], freqs=[0.591, 0.23519458544839256, 0.45323741007194246, 0.36507936507936506]),\n",
       " Line(depth=4, score=0.022999999999999996, moves=['e4', 'e5', 'Nf3', 'd6'], freqs=[0.591, 0.3333333333333333, 0.5786802030456852, 0.20175438596491227]),\n",
       " Line(depth=4, score=0.02, moves=['e4', 'e6', 'd4', 'd5'], freqs=[0.591, 0.14213197969543148, 0.47619047619047616, 0.5]),\n",
       " Line(depth=4, score=0.016000000000000004, moves=['d4', 'Nf6', 'c4', 'e6'], freqs=[0.254, 0.23622047244094488, 0.55, 0.48484848484848486]),\n",
       " Line(depth=4, score=0.011999999999999999, moves=['e4', 'e5', 'Nf3', 'Nf6'], freqs=[0.591, 0.3333333333333333, 0.5786802030456852, 0.10526315789473684]),\n",
       " Line(depth=4, score=0.011, moves=['d4', 'd5', 'c4', 'dxc4'], freqs=[0.254, 0.37401574803149606, 0.4631578947368421, 0.25]),\n",
       " Line(depth=4, score=0.010999999999999998, moves=['e4', 'e5', 'd4', 'exd4'], freqs=[0.591, 0.3333333333333333, 0.08121827411167512, 0.6875])]"
      ]
     },
     "execution_count": 214,
     "metadata": {},
     "output_type": "execute_result"
    }
   ],
   "source": [
    "get_top_lines(line_trie, max_depth=3)[:10]"
   ]
  },
  {
   "cell_type": "code",
   "execution_count": 79,
   "metadata": {},
   "outputs": [
    {
     "data": {
      "text/plain": [
       "e4     0.35\n",
       "d4     0.34\n",
       "Nf3    0.12\n",
       "c4     0.09\n",
       "b3     0.03\n",
       "e3     0.02\n",
       "Nc3    0.02\n",
       "d3     0.01\n",
       "Nh3    0.01\n",
       "g3     0.01\n",
       "Name: move, dtype: float64"
      ]
     },
     "execution_count": 79,
     "metadata": {},
     "output_type": "execute_result"
    }
   ],
   "source": [
    "frequencies"
   ]
  },
  {
   "cell_type": "code",
   "execution_count": null,
   "metadata": {},
   "outputs": [],
   "source": []
  }
 ],
 "metadata": {
  "colab": {
   "collapsed_sections": [],
   "name": "Untitled16.ipynb",
   "provenance": []
  },
  "kernelspec": {
   "display_name": "chess-analytics venv",
   "language": "python",
   "name": "venv"
  },
  "language_info": {
   "codemirror_mode": {
    "name": "ipython",
    "version": 3
   },
   "file_extension": ".py",
   "mimetype": "text/x-python",
   "name": "python",
   "nbconvert_exporter": "python",
   "pygments_lexer": "ipython3",
   "version": "3.8.0"
  }
 },
 "nbformat": 4,
 "nbformat_minor": 1
}
