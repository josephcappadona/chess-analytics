{
 "cells": [
  {
   "cell_type": "markdown",
   "metadata": {},
   "source": [
    "# Installs & Imports"
   ]
  },
  {
   "cell_type": "code",
   "execution_count": 1,
   "metadata": {},
   "outputs": [
    {
     "name": "stdout",
     "output_type": "stream",
     "text": [
      "Python 3.8.0\r\n"
     ]
    }
   ],
   "source": [
    "!python --version # requires 3.7+"
   ]
  },
  {
   "cell_type": "code",
   "execution_count": 2,
   "metadata": {
    "colab": {
     "base_uri": "https://localhost:8080/"
    },
    "id": "faSONRmSFmMs",
    "outputId": "e0b18a53-4390-4b05-9bdb-1c54fa1ce448"
   },
   "outputs": [
    {
     "name": "stdout",
     "output_type": "stream",
     "text": [
      "\u001b[33mWARNING: You are using pip version 19.2.3, however version 21.0.1 is available.\r\n",
      "You should consider upgrading via the 'pip install --upgrade pip' command.\u001b[0m\r\n"
     ]
    }
   ],
   "source": [
    "!pip install -q wget chess seaborn numpy pandas"
   ]
  },
  {
   "cell_type": "code",
   "execution_count": 3,
   "metadata": {
    "id": "vOPrDjRfFnZd"
   },
   "outputs": [],
   "source": [
    "import wget, chess, bz2, time\n",
    "from chess import pgn\n",
    "from pathlib import Path\n",
    "import seaborn as sns\n",
    "sns.set_theme(style=\"whitegrid\")\n",
    "import numpy as np\n",
    "import pandas as pd\n",
    "from collections import defaultdict, Counter\n",
    "from pprint import pprint\n",
    "import matplotlib.pyplot as plt"
   ]
  },
  {
   "cell_type": "markdown",
   "metadata": {},
   "source": [
    "# Classes & Functions"
   ]
  },
  {
   "cell_type": "markdown",
   "metadata": {},
   "source": [
    "## Data"
   ]
  },
  {
   "cell_type": "code",
   "execution_count": 32,
   "metadata": {},
   "outputs": [],
   "source": [
    "def download(url, filename, overwrite=False):\n",
    "    \n",
    "    if '.pgn' not in filename:\n",
    "        filename += '.pgn'\n",
    "        pgn_filename = filename\n",
    "    else:\n",
    "        if not filename.endswith('.pgn'):\n",
    "            idx = filename.find('.pgn') + 4\n",
    "            pgn_filename = filename[:idx]\n",
    "        else:\n",
    "            pgn_filename = filename\n",
    "            \n",
    "    filename = Path(filename)\n",
    "    if not filename.exists() or overwrite:\n",
    "        print(f'Downloading {str(filename)} from {url}')\n",
    "        filename = wget.download(str(url), str(filename))\n",
    "        if filename.endswith('.bz2'):\n",
    "            filename = bunzip(filename)\n",
    "    else:\n",
    "        print(f'{str(filename)} already exists. Pass in `overwrite=True` to overwrite it.')\n",
    "        \n",
    "    return pgn_filename\n",
    "\n",
    "def bunzip(filename):\n",
    "    zipped_filename = Path(filename)\n",
    "    unzipped_filename = zipped_filename.with_suffix('')\n",
    "    with open(unzipped_filename, 'wb') as f_out:\n",
    "        with bz2.open(zipped_filename, 'rb') as f_in:\n",
    "            f_out.write(f_in.read())\n",
    "            print(f\"Wrote {str(unzipped_filename)}\")\n",
    "            return unzipped_filename\n",
    "\n",
    "def get_avg_elo(game):\n",
    "    if not game.headers['WhiteElo'].endswith('?') \\\n",
    "                and not game.headers['BlackElo'].endswith('?'):\n",
    "        avg_elo = (int(game.headers['WhiteElo']) + int(game.headers['BlackElo'])) / 2\n",
    "        return avg_elo\n",
    "    else:\n",
    "        return None\n",
    "\n",
    "def get_moves(game):\n",
    "    return [move.san() for move in game.mainline()]\n",
    "\n",
    "def get_moves_generator(game):\n",
    "    for move in game.mainline():\n",
    "        yield move.san()\n",
    "\n",
    "def games_generator_from_file(filename,\n",
    "                              max_games=None,\n",
    "                              sample=1.0):\n",
    "    pgn_file = open(filename)\n",
    "    count = 0\n",
    "    game = pgn.read_game(pgn_file)\n",
    "    while game:\n",
    "        if np.random.random() < 0.1:\n",
    "            game_dict = dict(game.headers)\n",
    "            game_dict['moves'] = get_moves(game)\n",
    "            if date := game_dict.get('UTCDate', None):\n",
    "                year, month, day = date.split('.')\n",
    "                game_dict['year'] = int(year)\n",
    "                game_dict['month'] = int(month)\n",
    "                game_dict['day'] = int(day)\n",
    "            game_dict['avg_elo'] = get_avg_elo(game)\n",
    "            yield game_dict\n",
    "            count += 1\n",
    "\n",
    "            if max_games and count >= max_games:\n",
    "                break\n",
    "        \n",
    "        game = pgn.read_game(pgn_file)"
   ]
  },
  {
   "cell_type": "markdown",
   "metadata": {},
   "source": [
    "## Utilities"
   ]
  },
  {
   "cell_type": "code",
   "execution_count": 5,
   "metadata": {},
   "outputs": [],
   "source": [
    "def round_nearest(x, n):\n",
    "    return np.round(np.array(x) / n).astype(int) * n\n",
    "\n",
    "def time_profile(fn):\n",
    "    def new_fn(*args, **kwargs):\n",
    "        start_t = time.time()\n",
    "        ret = fn(*args, **kwargs)\n",
    "        end_t = time.time()\n",
    "        print(f'{fn.__name__} took {end_t - start_t:.2f}s')\n",
    "        return ret\n",
    "    return new_fn"
   ]
  },
  {
   "cell_type": "markdown",
   "metadata": {},
   "source": [
    "## Trie"
   ]
  },
  {
   "cell_type": "code",
   "execution_count": 6,
   "metadata": {},
   "outputs": [],
   "source": [
    "@time_profile\n",
    "def make_game_trie(games, root=None):\n",
    "    root = root or dict()\n",
    "    for game in games:\n",
    "        current_dict = root\n",
    "        for move in game['moves']:\n",
    "            current_dict = current_dict.setdefault(move, {})\n",
    "        if None not in current_dict:\n",
    "            current_dict[None] = []\n",
    "        current_dict[None].append(game)\n",
    "    return root\n",
    "\n",
    "def in_trie(trie, moves):\n",
    "    current_dict = trie\n",
    "    for move in moves:\n",
    "        if move not in current_dict:\n",
    "            return False\n",
    "        current_dict = current_dict[move]\n",
    "    return True\n",
    "\n",
    "def get_sub_trie(trie, moves):\n",
    "    current_dict = trie\n",
    "    for move in moves:\n",
    "        if move not in current_dict:\n",
    "            return None\n",
    "        current_dict = current_dict[move]\n",
    "    return current_dict\n",
    "\n",
    "def count_trie(trie):\n",
    "    count = 0\n",
    "    for move, sub_trie in trie.items():\n",
    "        if not isinstance(sub_trie, dict):\n",
    "            leaves = sub_trie  # leaves are games\n",
    "            count += len(leaves)\n",
    "        else:\n",
    "            count += count_trie(sub_trie)\n",
    "    return count\n",
    "\n",
    "def get_leaves(trie):\n",
    "    leaves = []\n",
    "    if isinstance(trie, list):\n",
    "        for game in trie:\n",
    "            yield game\n",
    "    elif isinstance(trie, dict):\n",
    "        for move, sub_trie in trie.items():\n",
    "            for game in get_leaves(sub_trie):\n",
    "                yield game"
   ]
  },
  {
   "cell_type": "markdown",
   "metadata": {},
   "source": [
    "## Statistics"
   ]
  },
  {
   "cell_type": "code",
   "execution_count": 28,
   "metadata": {},
   "outputs": [],
   "source": [
    "def get_move_to_games_mapping(trie, elo_min=0, elo_max=float('inf')):\n",
    "    move_to_games = {}\n",
    "    \n",
    "    for move, sub_trie in trie.items():\n",
    "        games = list(get_leaves(sub_trie))\n",
    "        move_to_games[move] = games\n",
    "        \n",
    "    return move_to_games\n",
    "\n",
    "def build_move_df(trie, **kwargs):\n",
    "    data = []\n",
    "    move_to_games = get_move_to_games_mapping(trie, *kwargs)\n",
    "    for move, games in move_to_games.items():\n",
    "        for game in games:\n",
    "            game = game.copy()\n",
    "            game['move'] = move\n",
    "            data.append(game)\n",
    "\n",
    "    move_df = pd.DataFrame(data)\n",
    "    return move_df\n",
    "\n",
    "def get_elo_to_move_mapping(trie, bin_width=200):\n",
    "    elo_to_move = defaultdict(list)\n",
    "\n",
    "    for move, sub_trie in trie.items():\n",
    "        for game in get_leaves(sub_trie):\n",
    "            elo = game['avg_elo']\n",
    "            rounded_elo = round_nearest(elo, bin_width)\n",
    "            elo_to_move[rounded_elo].append(move)\n",
    "            \n",
    "    return elo_to_move\n",
    "\n",
    "def normalize(d, target=1.0):\n",
    "    raw = sum(d.values())\n",
    "    factor = target / raw\n",
    "    return {key:value*factor for key,value in d.items()}\n",
    "\n",
    "\n",
    "# Below = outdated(?)"
   ]
  },
  {
   "cell_type": "markdown",
   "metadata": {},
   "source": [
    "## Visualization"
   ]
  },
  {
   "cell_type": "code",
   "execution_count": 41,
   "metadata": {},
   "outputs": [],
   "source": [
    "import matplotlib.ticker as ticker\n",
    "def plot_move_distribution_by_elo(move_df, bin_width=100, figsize=(8, 5)):\n",
    "    fig, ax = plt.subplots(figsize=figsize)\n",
    "    \n",
    "    g = sns.histplot(ax=ax,\n",
    "                     x='avg_elo',\n",
    "                     y=None,\n",
    "                     hue='move',\n",
    "                     binwidth=bin_width,\n",
    "                     stat='count',\n",
    "                     multiple='fill',\n",
    "                     legend=True,\n",
    "                     data=move_df)\n",
    "    return fig\n",
    "    \n",
    "def plot_move_distribution_by_year(move_df, bin_width=1, figsize=(8, 5)):\n",
    "    fig, ax = plt.subplots(figsize=figsize)\n",
    "    \n",
    "    move_df = move_df.copy()\n",
    "    move_df['year_month'] = round_nearest(move_df['year'].values + (move_df['month'].values / 12).astype(int), bin_width)\n",
    "    g = sns.histplot(ax=ax,\n",
    "                     x='year_month',\n",
    "                     y=None,\n",
    "                     hue='move',\n",
    "                     binwidth=bin_width,\n",
    "                     stat='count',\n",
    "                     multiple='fill',\n",
    "                     legend=True,\n",
    "                     data=move_df)\n",
    "    g.get_xaxis().set_major_formatter(ticker.FuncFormatter(lambda x, pos: f'{x:g}'))\n",
    "    return fig"
   ]
  },
  {
   "cell_type": "markdown",
   "metadata": {},
   "source": [
    "# Run"
   ]
  },
  {
   "cell_type": "code",
   "execution_count": 92,
   "metadata": {},
   "outputs": [
    {
     "name": "stdout",
     "output_type": "stream",
     "text": [
      "lichess_db_standard_rated_2013-06.pgn.bz2 already exists. Pass in `overwrite=True` to overwrite it.\n",
      "lichess_db_standard_rated_2013-06.pgn\n"
     ]
    }
   ],
   "source": [
    "#url = 'https://lichess.org/games/export/seaghost27?max=100'\n",
    "#url = 'https://lichess.org/games/export/DrNykterstein?max=7000'\n",
    "url = 'https://database.lichess.org/standard/lichess_db_standard_rated_2013-06.pgn.bz2'\n",
    "\n",
    "filename = Path(url).name.translate(dict.fromkeys(map(ord, '?='), '_'))\n",
    "\n",
    "pgn_filename = download(url, filename)\n",
    "print(pgn_filename)"
   ]
  },
  {
   "cell_type": "code",
   "execution_count": 93,
   "metadata": {},
   "outputs": [
    {
     "name": "stdout",
     "output_type": "stream",
     "text": [
      "make_game_trie took 180.83s\n"
     ]
    }
   ],
   "source": [
    "MAX_GAMES = 1000\n",
    "\n",
    "games_gen = games_generator_from_file(pgn_filename, MAX_GAMES, sample=0.01)\n",
    "trie = make_game_trie(games_gen)"
   ]
  },
  {
   "cell_type": "code",
   "execution_count": 94,
   "metadata": {},
   "outputs": [
    {
     "name": "stdout",
     "output_type": "stream",
     "text": [
      "1000\n"
     ]
    }
   ],
   "source": [
    "print(count_trie(trie))"
   ]
  },
  {
   "cell_type": "code",
   "execution_count": 95,
   "metadata": {},
   "outputs": [],
   "source": [
    "#LINE = ['e4', 'c5', 'Nf3', 'Nc6', 'd4', 'cxd4', 'Nxd4', ]  # open sicilian\n",
    "LINE = []  # \n",
    "\n",
    "line_trie = get_sub_trie(trie, LINE)\n",
    "move_df = build_move_df(line_trie)"
   ]
  },
  {
   "cell_type": "code",
   "execution_count": 96,
   "metadata": {},
   "outputs": [
    {
     "data": {
      "text/html": [
       "<div>\n",
       "<style scoped>\n",
       "    .dataframe tbody tr th:only-of-type {\n",
       "        vertical-align: middle;\n",
       "    }\n",
       "\n",
       "    .dataframe tbody tr th {\n",
       "        vertical-align: top;\n",
       "    }\n",
       "\n",
       "    .dataframe thead th {\n",
       "        text-align: right;\n",
       "    }\n",
       "</style>\n",
       "<table border=\"1\" class=\"dataframe\">\n",
       "  <thead>\n",
       "    <tr style=\"text-align: right;\">\n",
       "      <th></th>\n",
       "      <th>Event</th>\n",
       "      <th>Site</th>\n",
       "      <th>Date</th>\n",
       "      <th>Round</th>\n",
       "      <th>White</th>\n",
       "      <th>Black</th>\n",
       "      <th>Result</th>\n",
       "      <th>BlackElo</th>\n",
       "      <th>BlackRatingDiff</th>\n",
       "      <th>ECO</th>\n",
       "      <th>...</th>\n",
       "      <th>UTCDate</th>\n",
       "      <th>UTCTime</th>\n",
       "      <th>WhiteElo</th>\n",
       "      <th>WhiteRatingDiff</th>\n",
       "      <th>moves</th>\n",
       "      <th>year</th>\n",
       "      <th>month</th>\n",
       "      <th>day</th>\n",
       "      <th>avg_elo</th>\n",
       "      <th>move</th>\n",
       "    </tr>\n",
       "  </thead>\n",
       "  <tbody>\n",
       "    <tr>\n",
       "      <th>0</th>\n",
       "      <td>Rated Bullet game</td>\n",
       "      <td>https://lichess.org/6r0csqdp</td>\n",
       "      <td>????.??.??</td>\n",
       "      <td>?</td>\n",
       "      <td>abdolrahim</td>\n",
       "      <td>Chesymaster</td>\n",
       "      <td>0-1</td>\n",
       "      <td>1270</td>\n",
       "      <td>+7</td>\n",
       "      <td>C20</td>\n",
       "      <td>...</td>\n",
       "      <td>2013.05.31</td>\n",
       "      <td>22:01:58</td>\n",
       "      <td>1080</td>\n",
       "      <td>-13</td>\n",
       "      <td>[e4, e5, Bc4, Bc5, Nf3, Qf6, Nc3, c6, d3, h5, ...</td>\n",
       "      <td>2013</td>\n",
       "      <td>5</td>\n",
       "      <td>31</td>\n",
       "      <td>1175.0</td>\n",
       "      <td>e4</td>\n",
       "    </tr>\n",
       "    <tr>\n",
       "      <th>1</th>\n",
       "      <td>Rated Classical game</td>\n",
       "      <td>https://lichess.org/6vo26bgq</td>\n",
       "      <td>????.??.??</td>\n",
       "      <td>?</td>\n",
       "      <td>morgan1</td>\n",
       "      <td>mogielica</td>\n",
       "      <td>0-1</td>\n",
       "      <td>1667</td>\n",
       "      <td>+8</td>\n",
       "      <td>C20</td>\n",
       "      <td>...</td>\n",
       "      <td>2013.06.01</td>\n",
       "      <td>22:38:19</td>\n",
       "      <td>1540</td>\n",
       "      <td>-8</td>\n",
       "      <td>[e4, e5, Bc4, Bc5, Qh5, Qf6, Nf3, Nc6, c3, g6,...</td>\n",
       "      <td>2013</td>\n",
       "      <td>6</td>\n",
       "      <td>1</td>\n",
       "      <td>1603.5</td>\n",
       "      <td>e4</td>\n",
       "    </tr>\n",
       "    <tr>\n",
       "      <th>2</th>\n",
       "      <td>Rated Blitz tournament https://lichess.org/tou...</td>\n",
       "      <td>https://lichess.org/2aad5369</td>\n",
       "      <td>????.??.??</td>\n",
       "      <td>?</td>\n",
       "      <td>joseph13</td>\n",
       "      <td>fisherbeer</td>\n",
       "      <td>1-0</td>\n",
       "      <td>1541</td>\n",
       "      <td>-20</td>\n",
       "      <td>C50</td>\n",
       "      <td>...</td>\n",
       "      <td>2013.06.01</td>\n",
       "      <td>00:12:23</td>\n",
       "      <td>1317</td>\n",
       "      <td>+23</td>\n",
       "      <td>[e4, e5, Bc4, Nc6, Nf3, Bc5, O-O, Nf6, d3, O-O...</td>\n",
       "      <td>2013</td>\n",
       "      <td>6</td>\n",
       "      <td>1</td>\n",
       "      <td>1429.0</td>\n",
       "      <td>e4</td>\n",
       "    </tr>\n",
       "    <tr>\n",
       "      <th>3</th>\n",
       "      <td>Rated Classical game</td>\n",
       "      <td>https://lichess.org/3c3whx07</td>\n",
       "      <td>????.??.??</td>\n",
       "      <td>?</td>\n",
       "      <td>mazorra</td>\n",
       "      <td>Rath</td>\n",
       "      <td>0-1</td>\n",
       "      <td>1500</td>\n",
       "      <td>+241</td>\n",
       "      <td>C28</td>\n",
       "      <td>...</td>\n",
       "      <td>2013.06.01</td>\n",
       "      <td>14:14:42</td>\n",
       "      <td>1614</td>\n",
       "      <td>-9</td>\n",
       "      <td>[e4, e5, Bc4, Nc6, d3, Nf6, Nc3, d6, Bb3, Be6,...</td>\n",
       "      <td>2013</td>\n",
       "      <td>6</td>\n",
       "      <td>1</td>\n",
       "      <td>1557.0</td>\n",
       "      <td>e4</td>\n",
       "    </tr>\n",
       "    <tr>\n",
       "      <th>4</th>\n",
       "      <td>Rated Blitz game</td>\n",
       "      <td>https://lichess.org/m1xnflwx</td>\n",
       "      <td>????.??.??</td>\n",
       "      <td>?</td>\n",
       "      <td>MihaSLOVE</td>\n",
       "      <td>Anti07</td>\n",
       "      <td>1-0</td>\n",
       "      <td>1566</td>\n",
       "      <td>-14</td>\n",
       "      <td>C23</td>\n",
       "      <td>...</td>\n",
       "      <td>2013.06.01</td>\n",
       "      <td>17:32:15</td>\n",
       "      <td>1739</td>\n",
       "      <td>+7</td>\n",
       "      <td>[e4, e5, Bc4, Nc6, Qh5, g6, Qf3, Qf6, c3, a6, ...</td>\n",
       "      <td>2013</td>\n",
       "      <td>6</td>\n",
       "      <td>1</td>\n",
       "      <td>1652.5</td>\n",
       "      <td>e4</td>\n",
       "    </tr>\n",
       "  </tbody>\n",
       "</table>\n",
       "<p>5 rows × 23 columns</p>\n",
       "</div>"
      ],
      "text/plain": [
       "                                               Event  \\\n",
       "0                                  Rated Bullet game   \n",
       "1                               Rated Classical game   \n",
       "2  Rated Blitz tournament https://lichess.org/tou...   \n",
       "3                               Rated Classical game   \n",
       "4                                   Rated Blitz game   \n",
       "\n",
       "                           Site        Date Round       White        Black  \\\n",
       "0  https://lichess.org/6r0csqdp  ????.??.??     ?  abdolrahim  Chesymaster   \n",
       "1  https://lichess.org/6vo26bgq  ????.??.??     ?     morgan1    mogielica   \n",
       "2  https://lichess.org/2aad5369  ????.??.??     ?    joseph13   fisherbeer   \n",
       "3  https://lichess.org/3c3whx07  ????.??.??     ?     mazorra         Rath   \n",
       "4  https://lichess.org/m1xnflwx  ????.??.??     ?   MihaSLOVE       Anti07   \n",
       "\n",
       "  Result BlackElo BlackRatingDiff  ECO  ...     UTCDate   UTCTime WhiteElo  \\\n",
       "0    0-1     1270              +7  C20  ...  2013.05.31  22:01:58     1080   \n",
       "1    0-1     1667              +8  C20  ...  2013.06.01  22:38:19     1540   \n",
       "2    1-0     1541             -20  C50  ...  2013.06.01  00:12:23     1317   \n",
       "3    0-1     1500            +241  C28  ...  2013.06.01  14:14:42     1614   \n",
       "4    1-0     1566             -14  C23  ...  2013.06.01  17:32:15     1739   \n",
       "\n",
       "  WhiteRatingDiff                                              moves  year  \\\n",
       "0             -13  [e4, e5, Bc4, Bc5, Nf3, Qf6, Nc3, c6, d3, h5, ...  2013   \n",
       "1              -8  [e4, e5, Bc4, Bc5, Qh5, Qf6, Nf3, Nc6, c3, g6,...  2013   \n",
       "2             +23  [e4, e5, Bc4, Nc6, Nf3, Bc5, O-O, Nf6, d3, O-O...  2013   \n",
       "3              -9  [e4, e5, Bc4, Nc6, d3, Nf6, Nc3, d6, Bb3, Be6,...  2013   \n",
       "4              +7  [e4, e5, Bc4, Nc6, Qh5, g6, Qf3, Qf6, c3, a6, ...  2013   \n",
       "\n",
       "  month day  avg_elo  move  \n",
       "0     5  31   1175.0    e4  \n",
       "1     6   1   1603.5    e4  \n",
       "2     6   1   1429.0    e4  \n",
       "3     6   1   1557.0    e4  \n",
       "4     6   1   1652.5    e4  \n",
       "\n",
       "[5 rows x 23 columns]"
      ]
     },
     "execution_count": 96,
     "metadata": {},
     "output_type": "execute_result"
    }
   ],
   "source": [
    "move_df.head()"
   ]
  },
  {
   "cell_type": "markdown",
   "metadata": {},
   "source": [
    "## Move counts at different ELOs"
   ]
  },
  {
   "cell_type": "code",
   "execution_count": 97,
   "metadata": {},
   "outputs": [],
   "source": [
    "ELO_BIN_WIDTH = 200"
   ]
  },
  {
   "cell_type": "code",
   "execution_count": 98,
   "metadata": {},
   "outputs": [
    {
     "ename": "TypeError",
     "evalue": "unsupported operand type(s) for /: 'NoneType' and 'int'",
     "output_type": "error",
     "traceback": [
      "\u001b[0;31m---------------------------------------------------------------------------\u001b[0m",
      "\u001b[0;31mTypeError\u001b[0m                                 Traceback (most recent call last)",
      "\u001b[0;32m<ipython-input-98-0820eec12f49>\u001b[0m in \u001b[0;36m<module>\u001b[0;34m\u001b[0m\n\u001b[0;32m----> 1\u001b[0;31m \u001b[0melos_to_moves\u001b[0m \u001b[0;34m=\u001b[0m \u001b[0mget_elo_to_move_mapping\u001b[0m\u001b[0;34m(\u001b[0m\u001b[0mline_trie\u001b[0m\u001b[0;34m,\u001b[0m \u001b[0mbin_width\u001b[0m\u001b[0;34m=\u001b[0m\u001b[0mELO_BIN_WIDTH\u001b[0m\u001b[0;34m)\u001b[0m\u001b[0;34m\u001b[0m\u001b[0;34m\u001b[0m\u001b[0m\n\u001b[0m\u001b[1;32m      2\u001b[0m \u001b[0melos_to_move_count\u001b[0m \u001b[0;34m=\u001b[0m \u001b[0;34m{\u001b[0m\u001b[0me\u001b[0m\u001b[0;34m:\u001b[0m\u001b[0mCounter\u001b[0m\u001b[0;34m(\u001b[0m\u001b[0mms\u001b[0m\u001b[0;34m)\u001b[0m \u001b[0;32mfor\u001b[0m \u001b[0me\u001b[0m\u001b[0;34m,\u001b[0m \u001b[0mms\u001b[0m \u001b[0;32min\u001b[0m \u001b[0melos_to_moves\u001b[0m\u001b[0;34m.\u001b[0m\u001b[0mitems\u001b[0m\u001b[0;34m(\u001b[0m\u001b[0;34m)\u001b[0m\u001b[0;34m}\u001b[0m\u001b[0;34m\u001b[0m\u001b[0;34m\u001b[0m\u001b[0m\n\u001b[1;32m      3\u001b[0m \u001b[0melos_to_move_count_normalized\u001b[0m \u001b[0;34m=\u001b[0m \u001b[0;34m{\u001b[0m\u001b[0me\u001b[0m\u001b[0;34m:\u001b[0m\u001b[0mnormalize\u001b[0m\u001b[0;34m(\u001b[0m\u001b[0mC\u001b[0m\u001b[0;34m)\u001b[0m \u001b[0;32mfor\u001b[0m \u001b[0me\u001b[0m\u001b[0;34m,\u001b[0m \u001b[0mC\u001b[0m \u001b[0;32min\u001b[0m \u001b[0melos_to_move_count\u001b[0m\u001b[0;34m.\u001b[0m\u001b[0mitems\u001b[0m\u001b[0;34m(\u001b[0m\u001b[0;34m)\u001b[0m\u001b[0;34m}\u001b[0m\u001b[0;34m\u001b[0m\u001b[0;34m\u001b[0m\u001b[0m\n\u001b[1;32m      4\u001b[0m \u001b[0;34m\u001b[0m\u001b[0m\n\u001b[1;32m      5\u001b[0m \u001b[0mpd\u001b[0m\u001b[0;34m.\u001b[0m\u001b[0mDataFrame\u001b[0m\u001b[0;34m(\u001b[0m\u001b[0melos_to_move_count\u001b[0m\u001b[0;34m)\u001b[0m\u001b[0;34m\u001b[0m\u001b[0;34m\u001b[0m\u001b[0m\n",
      "\u001b[0;32m<ipython-input-28-4d52962c407a>\u001b[0m in \u001b[0;36mget_elo_to_move_mapping\u001b[0;34m(trie, bin_width)\u001b[0m\n\u001b[1;32m     26\u001b[0m         \u001b[0;32mfor\u001b[0m \u001b[0mgame\u001b[0m \u001b[0;32min\u001b[0m \u001b[0mget_leaves\u001b[0m\u001b[0;34m(\u001b[0m\u001b[0msub_trie\u001b[0m\u001b[0;34m)\u001b[0m\u001b[0;34m:\u001b[0m\u001b[0;34m\u001b[0m\u001b[0;34m\u001b[0m\u001b[0m\n\u001b[1;32m     27\u001b[0m             \u001b[0melo\u001b[0m \u001b[0;34m=\u001b[0m \u001b[0mgame\u001b[0m\u001b[0;34m[\u001b[0m\u001b[0;34m'avg_elo'\u001b[0m\u001b[0;34m]\u001b[0m\u001b[0;34m\u001b[0m\u001b[0;34m\u001b[0m\u001b[0m\n\u001b[0;32m---> 28\u001b[0;31m             \u001b[0mrounded_elo\u001b[0m \u001b[0;34m=\u001b[0m \u001b[0mround_nearest\u001b[0m\u001b[0;34m(\u001b[0m\u001b[0melo\u001b[0m\u001b[0;34m,\u001b[0m \u001b[0mbin_width\u001b[0m\u001b[0;34m)\u001b[0m\u001b[0;34m\u001b[0m\u001b[0;34m\u001b[0m\u001b[0m\n\u001b[0m\u001b[1;32m     29\u001b[0m             \u001b[0melo_to_move\u001b[0m\u001b[0;34m[\u001b[0m\u001b[0mrounded_elo\u001b[0m\u001b[0;34m]\u001b[0m\u001b[0;34m.\u001b[0m\u001b[0mappend\u001b[0m\u001b[0;34m(\u001b[0m\u001b[0mmove\u001b[0m\u001b[0;34m)\u001b[0m\u001b[0;34m\u001b[0m\u001b[0;34m\u001b[0m\u001b[0m\n\u001b[1;32m     30\u001b[0m \u001b[0;34m\u001b[0m\u001b[0m\n",
      "\u001b[0;32m<ipython-input-5-f7753305a481>\u001b[0m in \u001b[0;36mround_nearest\u001b[0;34m(x, n)\u001b[0m\n\u001b[1;32m      1\u001b[0m \u001b[0;32mdef\u001b[0m \u001b[0mround_nearest\u001b[0m\u001b[0;34m(\u001b[0m\u001b[0mx\u001b[0m\u001b[0;34m,\u001b[0m \u001b[0mn\u001b[0m\u001b[0;34m)\u001b[0m\u001b[0;34m:\u001b[0m\u001b[0;34m\u001b[0m\u001b[0;34m\u001b[0m\u001b[0m\n\u001b[0;32m----> 2\u001b[0;31m     \u001b[0;32mreturn\u001b[0m \u001b[0mnp\u001b[0m\u001b[0;34m.\u001b[0m\u001b[0mround\u001b[0m\u001b[0;34m(\u001b[0m\u001b[0mnp\u001b[0m\u001b[0;34m.\u001b[0m\u001b[0marray\u001b[0m\u001b[0;34m(\u001b[0m\u001b[0mx\u001b[0m\u001b[0;34m)\u001b[0m \u001b[0;34m/\u001b[0m \u001b[0mn\u001b[0m\u001b[0;34m)\u001b[0m\u001b[0;34m.\u001b[0m\u001b[0mastype\u001b[0m\u001b[0;34m(\u001b[0m\u001b[0mint\u001b[0m\u001b[0;34m)\u001b[0m \u001b[0;34m*\u001b[0m \u001b[0mn\u001b[0m\u001b[0;34m\u001b[0m\u001b[0;34m\u001b[0m\u001b[0m\n\u001b[0m\u001b[1;32m      3\u001b[0m \u001b[0;34m\u001b[0m\u001b[0m\n\u001b[1;32m      4\u001b[0m \u001b[0;32mdef\u001b[0m \u001b[0mtime_profile\u001b[0m\u001b[0;34m(\u001b[0m\u001b[0mfn\u001b[0m\u001b[0;34m)\u001b[0m\u001b[0;34m:\u001b[0m\u001b[0;34m\u001b[0m\u001b[0;34m\u001b[0m\u001b[0m\n\u001b[1;32m      5\u001b[0m     \u001b[0;32mdef\u001b[0m \u001b[0mnew_fn\u001b[0m\u001b[0;34m(\u001b[0m\u001b[0;34m*\u001b[0m\u001b[0margs\u001b[0m\u001b[0;34m,\u001b[0m \u001b[0;34m**\u001b[0m\u001b[0mkwargs\u001b[0m\u001b[0;34m)\u001b[0m\u001b[0;34m:\u001b[0m\u001b[0;34m\u001b[0m\u001b[0;34m\u001b[0m\u001b[0m\n",
      "\u001b[0;31mTypeError\u001b[0m: unsupported operand type(s) for /: 'NoneType' and 'int'"
     ]
    }
   ],
   "source": [
    "elos_to_moves = get_elo_to_move_mapping(line_trie, bin_width=ELO_BIN_WIDTH)\n",
    "elos_to_move_count = {e:Counter(ms) for e, ms in elos_to_moves.items()}\n",
    "elos_to_move_count_normalized = {e:normalize(C) for e, C in elos_to_move_count.items()}\n",
    "\n",
    "pd.DataFrame(elos_to_move_count)"
   ]
  },
  {
   "cell_type": "markdown",
   "metadata": {},
   "source": [
    "### Top Move Distributions Across ELO and Year"
   ]
  },
  {
   "cell_type": "code",
   "execution_count": 99,
   "metadata": {},
   "outputs": [
    {
     "name": "stdout",
     "output_type": "stream",
     "text": [
      "['e4', 'd4', 'c4', 'e3', 'Nf3']\n"
     ]
    }
   ],
   "source": [
    "top_n = 5\n",
    "top_moves = move_df['move'].value_counts().iloc[:top_n].index.values.tolist()\n",
    "print(top_moves)\n",
    "\n",
    "top_moves_df = move_df[move_df['move'].isin(top_moves)]"
   ]
  },
  {
   "cell_type": "code",
   "execution_count": 100,
   "metadata": {},
   "outputs": [
    {
     "data": {
      "image/png": "[encoded data removed]",
      "text/plain": [
       "<Figure size 576x360 with 1 Axes>"
      ]
     },
     "metadata": {},
     "output_type": "display_data"
    }
   ],
   "source": [
    "distr_by_elo = plot_move_distribution_by_elo(top_moves_df, 100)"
   ]
  },
  {
   "cell_type": "code",
   "execution_count": 103,
   "metadata": {},
   "outputs": [],
   "source": [
    "if top_moves_df['year'].nunique() > 1:\n",
    "    distr_by_year = plot_move_distribution_by_year(top_moves_df, 0.75)"
   ]
  },
  {
   "cell_type": "code",
   "execution_count": 104,
   "metadata": {},
   "outputs": [],
   "source": [
    "def filter_games(games,\n",
    "                 white=None,\n",
    "                 black=None,\n",
    "                 min_elo=0,\n",
    "                 max_elo=4000,\n",
    "                 require_elo=False,\n",
    "                 time_control=None):\n",
    "    filtered = []\n",
    "    for game in games:\n",
    "        valid = True\n",
    "        if white and game['White'] != white:\n",
    "            valid = False\n",
    "        elif black and game['Black'] != black:\n",
    "            valid = False\n",
    "        elif require_elo and not (min_elo < int(game['WhiteElo']) < max_elo):\n",
    "            valid = False\n",
    "        elif require_elo and not (min_elo < int(game['BlackElo']) < max_elo):\n",
    "            valid = False\n",
    "        elif time_control and game['TimeControl'] != time_control:\n",
    "            valid = False\n",
    "        if valid:\n",
    "            filtered.append(game)\n",
    "    return filtered\n",
    "\n",
    "def filter_trie(trie, **kwargs):\n",
    "    new_trie = {}\n",
    "    \n",
    "    for move, sub_trie in trie.items():\n",
    "        if move == None:\n",
    "            new_trie[None] = filter_games(sub_trie, **kwargs)\n",
    "        else:\n",
    "            new_trie[move] = filter_trie(sub_trie, **kwargs)\n",
    "    return new_trie"
   ]
  },
  {
   "cell_type": "code",
   "execution_count": 105,
   "metadata": {},
   "outputs": [
    {
     "ename": "StopIteration",
     "evalue": "",
     "output_type": "error",
     "traceback": [
      "\u001b[0;31m---------------------------------------------------------------------------\u001b[0m",
      "\u001b[0;31mStopIteration\u001b[0m                             Traceback (most recent call last)",
      "\u001b[0;32m<ipython-input-105-0dfc6ca10bc4>\u001b[0m in \u001b[0;36m<module>\u001b[0;34m\u001b[0m\n\u001b[0;32m----> 1\u001b[0;31m \u001b[0mnext\u001b[0m\u001b[0;34m(\u001b[0m\u001b[0mget_leaves\u001b[0m\u001b[0;34m(\u001b[0m\u001b[0mfilter_trie\u001b[0m\u001b[0;34m(\u001b[0m\u001b[0mline_trie\u001b[0m\u001b[0;34m,\u001b[0m \u001b[0mwhite\u001b[0m\u001b[0;34m=\u001b[0m\u001b[0;34m'DrNykterstein'\u001b[0m\u001b[0;34m)\u001b[0m\u001b[0;34m)\u001b[0m\u001b[0;34m)\u001b[0m\u001b[0;34m\u001b[0m\u001b[0;34m\u001b[0m\u001b[0m\n\u001b[0m",
      "\u001b[0;31mStopIteration\u001b[0m: "
     ]
    }
   ],
   "source": [
    "next(get_leaves(filter_trie(line_trie, white='DrNykterstein')))"
   ]
  },
  {
   "cell_type": "code",
   "execution_count": 106,
   "metadata": {},
   "outputs": [],
   "source": [
    "def get_top_lines(trie, k=10, max_depth=6):\n",
    "    move_df = build_move_df(trie)\n",
    "    counts = move_df['move'].value_counts()\n",
    "    frequencies = counts / len(move_df)\n",
    "    \n",
    "    lines = []\n",
    "    for move, sub_trie in trie.items():\n",
    "        if max_depth == 0:\n",
    "            score = frequencies[move]\n",
    "            lines.append((score, [move]))\n",
    "        else:\n",
    "            top_sub_lines = get_top_lines(sub_trie, k=10, max_depth=max_depth-1)\n",
    "            for score, sub_line in top_sub_lines:\n",
    "                score = (score * len(sub_line) + frequencies[move]) / (len(sub_line) + 1)\n",
    "            lines.append((score, [move] + sub_line))\n",
    "    return sorted(lines, reverse=True)[:k]\n",
    "    "
   ]
  },
  {
   "cell_type": "code",
   "execution_count": 107,
   "metadata": {},
   "outputs": [
    {
     "ename": "AttributeError",
     "evalue": "'list' object has no attribute 'items'",
     "output_type": "error",
     "traceback": [
      "\u001b[0;31m---------------------------------------------------------------------------\u001b[0m",
      "\u001b[0;31mAttributeError\u001b[0m                            Traceback (most recent call last)",
      "\u001b[0;32m<ipython-input-107-9aae489d3b1a>\u001b[0m in \u001b[0;36m<module>\u001b[0;34m\u001b[0m\n\u001b[0;32m----> 1\u001b[0;31m \u001b[0mget_top_lines\u001b[0m\u001b[0;34m(\u001b[0m\u001b[0mline_trie\u001b[0m\u001b[0;34m)\u001b[0m\u001b[0;34m\u001b[0m\u001b[0;34m\u001b[0m\u001b[0m\n\u001b[0m",
      "\u001b[0;32m<ipython-input-106-f9f1898b6bcb>\u001b[0m in \u001b[0;36mget_top_lines\u001b[0;34m(trie, k, max_depth)\u001b[0m\n\u001b[1;32m     10\u001b[0m             \u001b[0mlines\u001b[0m\u001b[0;34m.\u001b[0m\u001b[0mappend\u001b[0m\u001b[0;34m(\u001b[0m\u001b[0;34m(\u001b[0m\u001b[0mscore\u001b[0m\u001b[0;34m,\u001b[0m \u001b[0;34m[\u001b[0m\u001b[0mmove\u001b[0m\u001b[0;34m]\u001b[0m\u001b[0;34m)\u001b[0m\u001b[0;34m)\u001b[0m\u001b[0;34m\u001b[0m\u001b[0;34m\u001b[0m\u001b[0m\n\u001b[1;32m     11\u001b[0m         \u001b[0;32melse\u001b[0m\u001b[0;34m:\u001b[0m\u001b[0;34m\u001b[0m\u001b[0;34m\u001b[0m\u001b[0m\n\u001b[0;32m---> 12\u001b[0;31m             \u001b[0mtop_sub_lines\u001b[0m \u001b[0;34m=\u001b[0m \u001b[0mget_top_lines\u001b[0m\u001b[0;34m(\u001b[0m\u001b[0msub_trie\u001b[0m\u001b[0;34m,\u001b[0m \u001b[0mk\u001b[0m\u001b[0;34m=\u001b[0m\u001b[0;36m10\u001b[0m\u001b[0;34m,\u001b[0m \u001b[0mmax_depth\u001b[0m\u001b[0;34m=\u001b[0m\u001b[0mmax_depth\u001b[0m\u001b[0;34m-\u001b[0m\u001b[0;36m1\u001b[0m\u001b[0;34m)\u001b[0m\u001b[0;34m\u001b[0m\u001b[0;34m\u001b[0m\u001b[0m\n\u001b[0m\u001b[1;32m     13\u001b[0m             \u001b[0;32mfor\u001b[0m \u001b[0mscore\u001b[0m\u001b[0;34m,\u001b[0m \u001b[0msub_line\u001b[0m \u001b[0;32min\u001b[0m \u001b[0mtop_sub_lines\u001b[0m\u001b[0;34m:\u001b[0m\u001b[0;34m\u001b[0m\u001b[0;34m\u001b[0m\u001b[0m\n\u001b[1;32m     14\u001b[0m                 \u001b[0mscore\u001b[0m \u001b[0;34m=\u001b[0m \u001b[0;34m(\u001b[0m\u001b[0mscore\u001b[0m \u001b[0;34m*\u001b[0m \u001b[0mlen\u001b[0m\u001b[0;34m(\u001b[0m\u001b[0msub_line\u001b[0m\u001b[0;34m)\u001b[0m \u001b[0;34m+\u001b[0m \u001b[0mfrequencies\u001b[0m\u001b[0;34m[\u001b[0m\u001b[0mmove\u001b[0m\u001b[0;34m]\u001b[0m\u001b[0;34m)\u001b[0m \u001b[0;34m/\u001b[0m \u001b[0;34m(\u001b[0m\u001b[0mlen\u001b[0m\u001b[0;34m(\u001b[0m\u001b[0msub_line\u001b[0m\u001b[0;34m)\u001b[0m \u001b[0;34m+\u001b[0m \u001b[0;36m1\u001b[0m\u001b[0;34m)\u001b[0m\u001b[0;34m\u001b[0m\u001b[0;34m\u001b[0m\u001b[0m\n",
      "\u001b[0;32m<ipython-input-106-f9f1898b6bcb>\u001b[0m in \u001b[0;36mget_top_lines\u001b[0;34m(trie, k, max_depth)\u001b[0m\n\u001b[1;32m     10\u001b[0m             \u001b[0mlines\u001b[0m\u001b[0;34m.\u001b[0m\u001b[0mappend\u001b[0m\u001b[0;34m(\u001b[0m\u001b[0;34m(\u001b[0m\u001b[0mscore\u001b[0m\u001b[0;34m,\u001b[0m \u001b[0;34m[\u001b[0m\u001b[0mmove\u001b[0m\u001b[0;34m]\u001b[0m\u001b[0;34m)\u001b[0m\u001b[0;34m)\u001b[0m\u001b[0;34m\u001b[0m\u001b[0;34m\u001b[0m\u001b[0m\n\u001b[1;32m     11\u001b[0m         \u001b[0;32melse\u001b[0m\u001b[0;34m:\u001b[0m\u001b[0;34m\u001b[0m\u001b[0;34m\u001b[0m\u001b[0m\n\u001b[0;32m---> 12\u001b[0;31m             \u001b[0mtop_sub_lines\u001b[0m \u001b[0;34m=\u001b[0m \u001b[0mget_top_lines\u001b[0m\u001b[0;34m(\u001b[0m\u001b[0msub_trie\u001b[0m\u001b[0;34m,\u001b[0m \u001b[0mk\u001b[0m\u001b[0;34m=\u001b[0m\u001b[0;36m10\u001b[0m\u001b[0;34m,\u001b[0m \u001b[0mmax_depth\u001b[0m\u001b[0;34m=\u001b[0m\u001b[0mmax_depth\u001b[0m\u001b[0;34m-\u001b[0m\u001b[0;36m1\u001b[0m\u001b[0;34m)\u001b[0m\u001b[0;34m\u001b[0m\u001b[0;34m\u001b[0m\u001b[0m\n\u001b[0m\u001b[1;32m     13\u001b[0m             \u001b[0;32mfor\u001b[0m \u001b[0mscore\u001b[0m\u001b[0;34m,\u001b[0m \u001b[0msub_line\u001b[0m \u001b[0;32min\u001b[0m \u001b[0mtop_sub_lines\u001b[0m\u001b[0;34m:\u001b[0m\u001b[0;34m\u001b[0m\u001b[0;34m\u001b[0m\u001b[0m\n\u001b[1;32m     14\u001b[0m                 \u001b[0mscore\u001b[0m \u001b[0;34m=\u001b[0m \u001b[0;34m(\u001b[0m\u001b[0mscore\u001b[0m \u001b[0;34m*\u001b[0m \u001b[0mlen\u001b[0m\u001b[0;34m(\u001b[0m\u001b[0msub_line\u001b[0m\u001b[0;34m)\u001b[0m \u001b[0;34m+\u001b[0m \u001b[0mfrequencies\u001b[0m\u001b[0;34m[\u001b[0m\u001b[0mmove\u001b[0m\u001b[0;34m]\u001b[0m\u001b[0;34m)\u001b[0m \u001b[0;34m/\u001b[0m \u001b[0;34m(\u001b[0m\u001b[0mlen\u001b[0m\u001b[0;34m(\u001b[0m\u001b[0msub_line\u001b[0m\u001b[0;34m)\u001b[0m \u001b[0;34m+\u001b[0m \u001b[0;36m1\u001b[0m\u001b[0;34m)\u001b[0m\u001b[0;34m\u001b[0m\u001b[0;34m\u001b[0m\u001b[0m\n",
      "\u001b[0;32m<ipython-input-106-f9f1898b6bcb>\u001b[0m in \u001b[0;36mget_top_lines\u001b[0;34m(trie, k, max_depth)\u001b[0m\n\u001b[1;32m     10\u001b[0m             \u001b[0mlines\u001b[0m\u001b[0;34m.\u001b[0m\u001b[0mappend\u001b[0m\u001b[0;34m(\u001b[0m\u001b[0;34m(\u001b[0m\u001b[0mscore\u001b[0m\u001b[0;34m,\u001b[0m \u001b[0;34m[\u001b[0m\u001b[0mmove\u001b[0m\u001b[0;34m]\u001b[0m\u001b[0;34m)\u001b[0m\u001b[0;34m)\u001b[0m\u001b[0;34m\u001b[0m\u001b[0;34m\u001b[0m\u001b[0m\n\u001b[1;32m     11\u001b[0m         \u001b[0;32melse\u001b[0m\u001b[0;34m:\u001b[0m\u001b[0;34m\u001b[0m\u001b[0;34m\u001b[0m\u001b[0m\n\u001b[0;32m---> 12\u001b[0;31m             \u001b[0mtop_sub_lines\u001b[0m \u001b[0;34m=\u001b[0m \u001b[0mget_top_lines\u001b[0m\u001b[0;34m(\u001b[0m\u001b[0msub_trie\u001b[0m\u001b[0;34m,\u001b[0m \u001b[0mk\u001b[0m\u001b[0;34m=\u001b[0m\u001b[0;36m10\u001b[0m\u001b[0;34m,\u001b[0m \u001b[0mmax_depth\u001b[0m\u001b[0;34m=\u001b[0m\u001b[0mmax_depth\u001b[0m\u001b[0;34m-\u001b[0m\u001b[0;36m1\u001b[0m\u001b[0;34m)\u001b[0m\u001b[0;34m\u001b[0m\u001b[0;34m\u001b[0m\u001b[0m\n\u001b[0m\u001b[1;32m     13\u001b[0m             \u001b[0;32mfor\u001b[0m \u001b[0mscore\u001b[0m\u001b[0;34m,\u001b[0m \u001b[0msub_line\u001b[0m \u001b[0;32min\u001b[0m \u001b[0mtop_sub_lines\u001b[0m\u001b[0;34m:\u001b[0m\u001b[0;34m\u001b[0m\u001b[0;34m\u001b[0m\u001b[0m\n\u001b[1;32m     14\u001b[0m                 \u001b[0mscore\u001b[0m \u001b[0;34m=\u001b[0m \u001b[0;34m(\u001b[0m\u001b[0mscore\u001b[0m \u001b[0;34m*\u001b[0m \u001b[0mlen\u001b[0m\u001b[0;34m(\u001b[0m\u001b[0msub_line\u001b[0m\u001b[0;34m)\u001b[0m \u001b[0;34m+\u001b[0m \u001b[0mfrequencies\u001b[0m\u001b[0;34m[\u001b[0m\u001b[0mmove\u001b[0m\u001b[0;34m]\u001b[0m\u001b[0;34m)\u001b[0m \u001b[0;34m/\u001b[0m \u001b[0;34m(\u001b[0m\u001b[0mlen\u001b[0m\u001b[0;34m(\u001b[0m\u001b[0msub_line\u001b[0m\u001b[0;34m)\u001b[0m \u001b[0;34m+\u001b[0m \u001b[0;36m1\u001b[0m\u001b[0;34m)\u001b[0m\u001b[0;34m\u001b[0m\u001b[0;34m\u001b[0m\u001b[0m\n",
      "\u001b[0;32m<ipython-input-106-f9f1898b6bcb>\u001b[0m in \u001b[0;36mget_top_lines\u001b[0;34m(trie, k, max_depth)\u001b[0m\n\u001b[1;32m      1\u001b[0m \u001b[0;32mdef\u001b[0m \u001b[0mget_top_lines\u001b[0m\u001b[0;34m(\u001b[0m\u001b[0mtrie\u001b[0m\u001b[0;34m,\u001b[0m \u001b[0mk\u001b[0m\u001b[0;34m=\u001b[0m\u001b[0;36m10\u001b[0m\u001b[0;34m,\u001b[0m \u001b[0mmax_depth\u001b[0m\u001b[0;34m=\u001b[0m\u001b[0;36m6\u001b[0m\u001b[0;34m)\u001b[0m\u001b[0;34m:\u001b[0m\u001b[0;34m\u001b[0m\u001b[0;34m\u001b[0m\u001b[0m\n\u001b[0;32m----> 2\u001b[0;31m     \u001b[0mmove_df\u001b[0m \u001b[0;34m=\u001b[0m \u001b[0mbuild_move_df\u001b[0m\u001b[0;34m(\u001b[0m\u001b[0mtrie\u001b[0m\u001b[0;34m)\u001b[0m\u001b[0;34m\u001b[0m\u001b[0;34m\u001b[0m\u001b[0m\n\u001b[0m\u001b[1;32m      3\u001b[0m     \u001b[0mcounts\u001b[0m \u001b[0;34m=\u001b[0m \u001b[0mmove_df\u001b[0m\u001b[0;34m[\u001b[0m\u001b[0;34m'move'\u001b[0m\u001b[0;34m]\u001b[0m\u001b[0;34m.\u001b[0m\u001b[0mvalue_counts\u001b[0m\u001b[0;34m(\u001b[0m\u001b[0;34m)\u001b[0m\u001b[0;34m\u001b[0m\u001b[0;34m\u001b[0m\u001b[0m\n\u001b[1;32m      4\u001b[0m     \u001b[0mfrequencies\u001b[0m \u001b[0;34m=\u001b[0m \u001b[0mcounts\u001b[0m \u001b[0;34m/\u001b[0m \u001b[0mlen\u001b[0m\u001b[0;34m(\u001b[0m\u001b[0mmove_df\u001b[0m\u001b[0;34m)\u001b[0m\u001b[0;34m\u001b[0m\u001b[0;34m\u001b[0m\u001b[0m\n\u001b[1;32m      5\u001b[0m \u001b[0;34m\u001b[0m\u001b[0m\n",
      "\u001b[0;32m<ipython-input-28-4d52962c407a>\u001b[0m in \u001b[0;36mbuild_move_df\u001b[0;34m(trie, **kwargs)\u001b[0m\n\u001b[1;32m     10\u001b[0m \u001b[0;32mdef\u001b[0m \u001b[0mbuild_move_df\u001b[0m\u001b[0;34m(\u001b[0m\u001b[0mtrie\u001b[0m\u001b[0;34m,\u001b[0m \u001b[0;34m**\u001b[0m\u001b[0mkwargs\u001b[0m\u001b[0;34m)\u001b[0m\u001b[0;34m:\u001b[0m\u001b[0;34m\u001b[0m\u001b[0;34m\u001b[0m\u001b[0m\n\u001b[1;32m     11\u001b[0m     \u001b[0mdata\u001b[0m \u001b[0;34m=\u001b[0m \u001b[0;34m[\u001b[0m\u001b[0;34m]\u001b[0m\u001b[0;34m\u001b[0m\u001b[0;34m\u001b[0m\u001b[0m\n\u001b[0;32m---> 12\u001b[0;31m     \u001b[0mmove_to_games\u001b[0m \u001b[0;34m=\u001b[0m \u001b[0mget_move_to_games_mapping\u001b[0m\u001b[0;34m(\u001b[0m\u001b[0mtrie\u001b[0m\u001b[0;34m,\u001b[0m \u001b[0;34m*\u001b[0m\u001b[0mkwargs\u001b[0m\u001b[0;34m)\u001b[0m\u001b[0;34m\u001b[0m\u001b[0;34m\u001b[0m\u001b[0m\n\u001b[0m\u001b[1;32m     13\u001b[0m     \u001b[0;32mfor\u001b[0m \u001b[0mmove\u001b[0m\u001b[0;34m,\u001b[0m \u001b[0mgames\u001b[0m \u001b[0;32min\u001b[0m \u001b[0mmove_to_games\u001b[0m\u001b[0;34m.\u001b[0m\u001b[0mitems\u001b[0m\u001b[0;34m(\u001b[0m\u001b[0;34m)\u001b[0m\u001b[0;34m:\u001b[0m\u001b[0;34m\u001b[0m\u001b[0;34m\u001b[0m\u001b[0m\n\u001b[1;32m     14\u001b[0m         \u001b[0;32mfor\u001b[0m \u001b[0mgame\u001b[0m \u001b[0;32min\u001b[0m \u001b[0mgames\u001b[0m\u001b[0;34m:\u001b[0m\u001b[0;34m\u001b[0m\u001b[0;34m\u001b[0m\u001b[0m\n",
      "\u001b[0;32m<ipython-input-28-4d52962c407a>\u001b[0m in \u001b[0;36mget_move_to_games_mapping\u001b[0;34m(trie, elo_min, elo_max)\u001b[0m\n\u001b[1;32m      2\u001b[0m     \u001b[0mmove_to_games\u001b[0m \u001b[0;34m=\u001b[0m \u001b[0;34m{\u001b[0m\u001b[0;34m}\u001b[0m\u001b[0;34m\u001b[0m\u001b[0;34m\u001b[0m\u001b[0m\n\u001b[1;32m      3\u001b[0m \u001b[0;34m\u001b[0m\u001b[0m\n\u001b[0;32m----> 4\u001b[0;31m     \u001b[0;32mfor\u001b[0m \u001b[0mmove\u001b[0m\u001b[0;34m,\u001b[0m \u001b[0msub_trie\u001b[0m \u001b[0;32min\u001b[0m \u001b[0mtrie\u001b[0m\u001b[0;34m.\u001b[0m\u001b[0mitems\u001b[0m\u001b[0;34m(\u001b[0m\u001b[0;34m)\u001b[0m\u001b[0;34m:\u001b[0m\u001b[0;34m\u001b[0m\u001b[0;34m\u001b[0m\u001b[0m\n\u001b[0m\u001b[1;32m      5\u001b[0m         \u001b[0mgames\u001b[0m \u001b[0;34m=\u001b[0m \u001b[0mlist\u001b[0m\u001b[0;34m(\u001b[0m\u001b[0mget_leaves\u001b[0m\u001b[0;34m(\u001b[0m\u001b[0msub_trie\u001b[0m\u001b[0;34m)\u001b[0m\u001b[0;34m)\u001b[0m\u001b[0;34m\u001b[0m\u001b[0;34m\u001b[0m\u001b[0m\n\u001b[1;32m      6\u001b[0m         \u001b[0mmove_to_games\u001b[0m\u001b[0;34m[\u001b[0m\u001b[0mmove\u001b[0m\u001b[0;34m]\u001b[0m \u001b[0;34m=\u001b[0m \u001b[0mgames\u001b[0m\u001b[0;34m\u001b[0m\u001b[0;34m\u001b[0m\u001b[0m\n",
      "\u001b[0;31mAttributeError\u001b[0m: 'list' object has no attribute 'items'"
     ]
    }
   ],
   "source": [
    "get_top_lines(line_trie)"
   ]
  },
  {
   "cell_type": "code",
   "execution_count": 79,
   "metadata": {},
   "outputs": [
    {
     "data": {
      "text/plain": [
       "e4     0.35\n",
       "d4     0.34\n",
       "Nf3    0.12\n",
       "c4     0.09\n",
       "b3     0.03\n",
       "e3     0.02\n",
       "Nc3    0.02\n",
       "d3     0.01\n",
       "Nh3    0.01\n",
       "g3     0.01\n",
       "Name: move, dtype: float64"
      ]
     },
     "execution_count": 79,
     "metadata": {},
     "output_type": "execute_result"
    }
   ],
   "source": [
    "frequencies"
   ]
  },
  {
   "cell_type": "code",
   "execution_count": null,
   "metadata": {},
   "outputs": [],
   "source": []
  }
 ],
 "metadata": {
  "colab": {
   "collapsed_sections": [],
   "name": "Untitled16.ipynb",
   "provenance": []
  },
  "kernelspec": {
   "display_name": "lichess venv",
   "language": "python",
   "name": "venv"
  },
  "language_info": {
   "codemirror_mode": {
    "name": "ipython",
    "version": 3
   },
   "file_extension": ".py",
   "mimetype": "text/x-python",
   "name": "python",
   "nbconvert_exporter": "python",
   "pygments_lexer": "ipython3",
   "version": "3.8.0"
  }
 },
 "nbformat": 4,
 "nbformat_minor": 1
}
